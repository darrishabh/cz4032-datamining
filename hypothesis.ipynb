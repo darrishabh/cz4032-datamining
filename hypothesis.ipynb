{
 "cells": [
  {
   "cell_type": "code",
   "execution_count": 62,
   "metadata": {},
   "outputs": [],
   "source": [
    "# library imports\n",
    "import scipy.stats as st\n",
    "from scipy.stats import chisquare\n",
    "import numpy as np\n",
    "import pandas as pd\n",
    "import matplotlib.pyplot as plt\n",
    "from datetime import datetime\n",
    "from datetime import timedelta\n",
    "from dateutil import parser\n",
    "# custom imports\n",
    "from utils.sentimentAnalysis import SentimentAnalyzer"
   ]
  },
  {
   "cell_type": "markdown",
   "metadata": {},
   "source": [
    "# Preparing the data for hypothesis tests"
   ]
  },
  {
   "source": [
    "## Data prep"
   ],
   "cell_type": "markdown",
   "metadata": {}
  },
  {
   "cell_type": "code",
   "execution_count": 8,
   "metadata": {},
   "outputs": [
    {
     "output_type": "execute_result",
     "data": {
      "text/plain": [
       "   Unnamed: 0               review_id                 user_id  \\\n",
       "0        5977  3XZ0_xt5bP1kD58Xi4hRxQ  hWDybu_KvYLSdEFzGrniTw   \n",
       "1        6037  9PFcEyPcwOMJX9xEctMPLA  hWDybu_KvYLSdEFzGrniTw   \n",
       "2        9550  JMh-VnxC1zkZLZAGOJI7Ag  hWDybu_KvYLSdEFzGrniTw   \n",
       "3       10115  n4rdRnngI96I0k2ifN_Zxw  Hi10sGSZNxQH3NLyWSZ1oA   \n",
       "4       10473  zUxl5xVaTPrKthmk0DwuVw  hWDybu_KvYLSdEFzGrniTw   \n",
       "\n",
       "              business_id  useful  funny  stars  cool  \\\n",
       "0  dXCZXOlks37U7IVXepcBDA      12      7    3.0     9   \n",
       "1  l_kefVF1frmC0xRW2YkvUA       2      4    2.0     1   \n",
       "2  42DvUONuqa1mC1YbnZ0o0w       4      4    3.0     3   \n",
       "3  hcFSc0OHgZJybnjQBrL_8Q      28     24    4.0    25   \n",
       "4  OqJtHcr5AsyuIjd2ePqLzw       2      2    4.0     2   \n",
       "\n",
       "                                                text                 date  \\\n",
       "0  I almost wish that I had a picnic basket and a...  2017-04-19 14:19:30   \n",
       "1  Young hotties all around and a racket loud eno...  2012-03-01 15:09:45   \n",
       "2  New new new Taco Bell on South Tryon a little ...  2015-05-26 13:38:53   \n",
       "3  If you want breakfast food, go to Eggyday Nood...  2017-03-15 21:46:36   \n",
       "4  Tasty food and large portions in this strip ma...  2013-06-24 16:06:01   \n",
       "\n",
       "   influencer  \n",
       "0           1  \n",
       "1           1  \n",
       "2           1  \n",
       "3           1  \n",
       "4           1  "
      ],
      "text/html": "<div>\n<style scoped>\n    .dataframe tbody tr th:only-of-type {\n        vertical-align: middle;\n    }\n\n    .dataframe tbody tr th {\n        vertical-align: top;\n    }\n\n    .dataframe thead th {\n        text-align: right;\n    }\n</style>\n<table border=\"1\" class=\"dataframe\">\n  <thead>\n    <tr style=\"text-align: right;\">\n      <th></th>\n      <th>Unnamed: 0</th>\n      <th>review_id</th>\n      <th>user_id</th>\n      <th>business_id</th>\n      <th>useful</th>\n      <th>funny</th>\n      <th>stars</th>\n      <th>cool</th>\n      <th>text</th>\n      <th>date</th>\n      <th>influencer</th>\n    </tr>\n  </thead>\n  <tbody>\n    <tr>\n      <td>0</td>\n      <td>5977</td>\n      <td>3XZ0_xt5bP1kD58Xi4hRxQ</td>\n      <td>hWDybu_KvYLSdEFzGrniTw</td>\n      <td>dXCZXOlks37U7IVXepcBDA</td>\n      <td>12</td>\n      <td>7</td>\n      <td>3.0</td>\n      <td>9</td>\n      <td>I almost wish that I had a picnic basket and a...</td>\n      <td>2017-04-19 14:19:30</td>\n      <td>1</td>\n    </tr>\n    <tr>\n      <td>1</td>\n      <td>6037</td>\n      <td>9PFcEyPcwOMJX9xEctMPLA</td>\n      <td>hWDybu_KvYLSdEFzGrniTw</td>\n      <td>l_kefVF1frmC0xRW2YkvUA</td>\n      <td>2</td>\n      <td>4</td>\n      <td>2.0</td>\n      <td>1</td>\n      <td>Young hotties all around and a racket loud eno...</td>\n      <td>2012-03-01 15:09:45</td>\n      <td>1</td>\n    </tr>\n    <tr>\n      <td>2</td>\n      <td>9550</td>\n      <td>JMh-VnxC1zkZLZAGOJI7Ag</td>\n      <td>hWDybu_KvYLSdEFzGrniTw</td>\n      <td>42DvUONuqa1mC1YbnZ0o0w</td>\n      <td>4</td>\n      <td>4</td>\n      <td>3.0</td>\n      <td>3</td>\n      <td>New new new Taco Bell on South Tryon a little ...</td>\n      <td>2015-05-26 13:38:53</td>\n      <td>1</td>\n    </tr>\n    <tr>\n      <td>3</td>\n      <td>10115</td>\n      <td>n4rdRnngI96I0k2ifN_Zxw</td>\n      <td>Hi10sGSZNxQH3NLyWSZ1oA</td>\n      <td>hcFSc0OHgZJybnjQBrL_8Q</td>\n      <td>28</td>\n      <td>24</td>\n      <td>4.0</td>\n      <td>25</td>\n      <td>If you want breakfast food, go to Eggyday Nood...</td>\n      <td>2017-03-15 21:46:36</td>\n      <td>1</td>\n    </tr>\n    <tr>\n      <td>4</td>\n      <td>10473</td>\n      <td>zUxl5xVaTPrKthmk0DwuVw</td>\n      <td>hWDybu_KvYLSdEFzGrniTw</td>\n      <td>OqJtHcr5AsyuIjd2ePqLzw</td>\n      <td>2</td>\n      <td>2</td>\n      <td>4.0</td>\n      <td>2</td>\n      <td>Tasty food and large portions in this strip ma...</td>\n      <td>2013-06-24 16:06:01</td>\n      <td>1</td>\n    </tr>\n  </tbody>\n</table>\n</div>"
     },
     "metadata": {},
     "execution_count": 8
    }
   ],
   "source": [
    "data = pd.read_csv('sampleData/finaldataset.csv')\n",
    "head = data.head()\n",
    "head"
   ]
  },
  {
   "cell_type": "code",
   "execution_count": 9,
   "metadata": {},
   "outputs": [
    {
     "output_type": "execute_result",
     "data": {
      "text/plain": [
       "                review_id                 user_id             business_id  \\\n",
       "0  3XZ0_xt5bP1kD58Xi4hRxQ  hWDybu_KvYLSdEFzGrniTw  dXCZXOlks37U7IVXepcBDA   \n",
       "1  9PFcEyPcwOMJX9xEctMPLA  hWDybu_KvYLSdEFzGrniTw  l_kefVF1frmC0xRW2YkvUA   \n",
       "2  JMh-VnxC1zkZLZAGOJI7Ag  hWDybu_KvYLSdEFzGrniTw  42DvUONuqa1mC1YbnZ0o0w   \n",
       "3  n4rdRnngI96I0k2ifN_Zxw  Hi10sGSZNxQH3NLyWSZ1oA  hcFSc0OHgZJybnjQBrL_8Q   \n",
       "4  zUxl5xVaTPrKthmk0DwuVw  hWDybu_KvYLSdEFzGrniTw  OqJtHcr5AsyuIjd2ePqLzw   \n",
       "\n",
       "   useful  funny  stars  cool  \\\n",
       "0      12      7    3.0     9   \n",
       "1       2      4    2.0     1   \n",
       "2       4      4    3.0     3   \n",
       "3      28     24    4.0    25   \n",
       "4       2      2    4.0     2   \n",
       "\n",
       "                                                text                 date  \\\n",
       "0  I almost wish that I had a picnic basket and a...  2017-04-19 14:19:30   \n",
       "1  Young hotties all around and a racket loud eno...  2012-03-01 15:09:45   \n",
       "2  New new new Taco Bell on South Tryon a little ...  2015-05-26 13:38:53   \n",
       "3  If you want breakfast food, go to Eggyday Nood...  2017-03-15 21:46:36   \n",
       "4  Tasty food and large portions in this strip ma...  2013-06-24 16:06:01   \n",
       "\n",
       "   influencer  \n",
       "0           1  \n",
       "1           1  \n",
       "2           1  \n",
       "3           1  \n",
       "4           1  "
      ],
      "text/html": "<div>\n<style scoped>\n    .dataframe tbody tr th:only-of-type {\n        vertical-align: middle;\n    }\n\n    .dataframe tbody tr th {\n        vertical-align: top;\n    }\n\n    .dataframe thead th {\n        text-align: right;\n    }\n</style>\n<table border=\"1\" class=\"dataframe\">\n  <thead>\n    <tr style=\"text-align: right;\">\n      <th></th>\n      <th>review_id</th>\n      <th>user_id</th>\n      <th>business_id</th>\n      <th>useful</th>\n      <th>funny</th>\n      <th>stars</th>\n      <th>cool</th>\n      <th>text</th>\n      <th>date</th>\n      <th>influencer</th>\n    </tr>\n  </thead>\n  <tbody>\n    <tr>\n      <td>0</td>\n      <td>3XZ0_xt5bP1kD58Xi4hRxQ</td>\n      <td>hWDybu_KvYLSdEFzGrniTw</td>\n      <td>dXCZXOlks37U7IVXepcBDA</td>\n      <td>12</td>\n      <td>7</td>\n      <td>3.0</td>\n      <td>9</td>\n      <td>I almost wish that I had a picnic basket and a...</td>\n      <td>2017-04-19 14:19:30</td>\n      <td>1</td>\n    </tr>\n    <tr>\n      <td>1</td>\n      <td>9PFcEyPcwOMJX9xEctMPLA</td>\n      <td>hWDybu_KvYLSdEFzGrniTw</td>\n      <td>l_kefVF1frmC0xRW2YkvUA</td>\n      <td>2</td>\n      <td>4</td>\n      <td>2.0</td>\n      <td>1</td>\n      <td>Young hotties all around and a racket loud eno...</td>\n      <td>2012-03-01 15:09:45</td>\n      <td>1</td>\n    </tr>\n    <tr>\n      <td>2</td>\n      <td>JMh-VnxC1zkZLZAGOJI7Ag</td>\n      <td>hWDybu_KvYLSdEFzGrniTw</td>\n      <td>42DvUONuqa1mC1YbnZ0o0w</td>\n      <td>4</td>\n      <td>4</td>\n      <td>3.0</td>\n      <td>3</td>\n      <td>New new new Taco Bell on South Tryon a little ...</td>\n      <td>2015-05-26 13:38:53</td>\n      <td>1</td>\n    </tr>\n    <tr>\n      <td>3</td>\n      <td>n4rdRnngI96I0k2ifN_Zxw</td>\n      <td>Hi10sGSZNxQH3NLyWSZ1oA</td>\n      <td>hcFSc0OHgZJybnjQBrL_8Q</td>\n      <td>28</td>\n      <td>24</td>\n      <td>4.0</td>\n      <td>25</td>\n      <td>If you want breakfast food, go to Eggyday Nood...</td>\n      <td>2017-03-15 21:46:36</td>\n      <td>1</td>\n    </tr>\n    <tr>\n      <td>4</td>\n      <td>zUxl5xVaTPrKthmk0DwuVw</td>\n      <td>hWDybu_KvYLSdEFzGrniTw</td>\n      <td>OqJtHcr5AsyuIjd2ePqLzw</td>\n      <td>2</td>\n      <td>2</td>\n      <td>4.0</td>\n      <td>2</td>\n      <td>Tasty food and large portions in this strip ma...</td>\n      <td>2013-06-24 16:06:01</td>\n      <td>1</td>\n    </tr>\n  </tbody>\n</table>\n</div>"
     },
     "metadata": {},
     "execution_count": 9
    }
   ],
   "source": [
    "# cleaning: drop first col\n",
    "data.columns\n",
    "data = data.drop(['Unnamed: 0'], axis=1)\n",
    "data.head()"
   ]
  },
  {
   "cell_type": "code",
   "execution_count": 10,
   "metadata": {},
   "outputs": [
    {
     "output_type": "execute_result",
     "data": {
      "text/plain": [
       "review_id              object\n",
       "user_id                object\n",
       "business_id            object\n",
       "useful                  int64\n",
       "funny                   int64\n",
       "stars                 float64\n",
       "cool                    int64\n",
       "text                   object\n",
       "date           datetime64[ns]\n",
       "influencer              int64\n",
       "dtype: object"
      ]
     },
     "metadata": {},
     "execution_count": 10
    }
   ],
   "source": [
    "# converting the dates to `datetime` objects (timestamps)\n",
    "data['date'] = data['date'].apply(parser.parse)\n",
    "# for seeing the types quickly\n",
    "data.dtypes"
   ]
  },
  {
   "cell_type": "code",
   "execution_count": 11,
   "metadata": {},
   "outputs": [
    {
     "output_type": "execute_result",
     "data": {
      "text/plain": [
       "<matplotlib.axes._subplots.AxesSubplot at 0x7f29760aae10>"
      ]
     },
     "metadata": {},
     "execution_count": 11
    },
    {
     "output_type": "display_data",
     "data": {
      "text/plain": "<Figure size 432x288 with 1 Axes>",
      "image/svg+xml": "<?xml version=\"1.0\" encoding=\"utf-8\" standalone=\"no\"?>\n<!DOCTYPE svg PUBLIC \"-//W3C//DTD SVG 1.1//EN\"\n  \"http://www.w3.org/Graphics/SVG/1.1/DTD/svg11.dtd\">\n<!-- Created with matplotlib (https://matplotlib.org/) -->\n<svg height=\"277.968125pt\" version=\"1.1\" viewBox=\"0 0 388.0125 277.968125\" width=\"388.0125pt\" xmlns=\"http://www.w3.org/2000/svg\" xmlns:xlink=\"http://www.w3.org/1999/xlink\">\n <defs>\n  <style type=\"text/css\">\n*{stroke-linecap:butt;stroke-linejoin:round;}\n  </style>\n </defs>\n <g id=\"figure_1\">\n  <g id=\"patch_1\">\n   <path d=\"M 0 277.968125 \nL 388.0125 277.968125 \nL 388.0125 0 \nL 0 0 \nz\n\" style=\"fill:none;\"/>\n  </g>\n  <g id=\"axes_1\">\n   <g id=\"patch_2\">\n    <path d=\"M 46.0125 224.64 \nL 380.8125 224.64 \nL 380.8125 7.2 \nL 46.0125 7.2 \nz\n\" style=\"fill:#ffffff;\"/>\n   </g>\n   <g id=\"patch_3\">\n    <path clip-path=\"url(#pda774f4206)\" d=\"M 51.5925 224.64 \nL 62.7525 224.64 \nL 62.7525 224.410583 \nL 51.5925 224.410583 \nz\n\" style=\"fill:#1f77b4;\"/>\n   </g>\n   <g id=\"patch_4\">\n    <path clip-path=\"url(#pda774f4206)\" d=\"M 73.9125 224.64 \nL 85.0725 224.64 \nL 85.0725 222.762948 \nL 73.9125 222.762948 \nz\n\" style=\"fill:#1f77b4;\"/>\n   </g>\n   <g id=\"patch_5\">\n    <path clip-path=\"url(#pda774f4206)\" d=\"M 96.2325 224.64 \nL 107.3925 224.64 \nL 107.3925 218.894137 \nL 96.2325 218.894137 \nz\n\" style=\"fill:#1f77b4;\"/>\n   </g>\n   <g id=\"patch_6\">\n    <path clip-path=\"url(#pda774f4206)\" d=\"M 118.5525 224.64 \nL 129.7125 224.64 \nL 129.7125 209.868647 \nL 118.5525 209.868647 \nz\n\" style=\"fill:#1f77b4;\"/>\n   </g>\n   <g id=\"patch_7\">\n    <path clip-path=\"url(#pda774f4206)\" d=\"M 140.8725 224.64 \nL 152.0325 224.64 \nL 152.0325 200.118407 \nL 140.8725 200.118407 \nz\n\" style=\"fill:#1f77b4;\"/>\n   </g>\n   <g id=\"patch_8\">\n    <path clip-path=\"url(#pda774f4206)\" d=\"M 163.1925 224.64 \nL 174.3525 224.64 \nL 174.3525 179.890569 \nL 163.1925 179.890569 \nz\n\" style=\"fill:#1f77b4;\"/>\n   </g>\n   <g id=\"patch_9\">\n    <path clip-path=\"url(#pda774f4206)\" d=\"M 185.5125 224.64 \nL 196.6725 224.64 \nL 196.6725 151.150824 \nL 185.5125 151.150824 \nz\n\" style=\"fill:#1f77b4;\"/>\n   </g>\n   <g id=\"patch_10\">\n    <path clip-path=\"url(#pda774f4206)\" d=\"M 207.8325 224.64 \nL 218.9925 224.64 \nL 218.9925 144.025849 \nL 207.8325 144.025849 \nz\n\" style=\"fill:#1f77b4;\"/>\n   </g>\n   <g id=\"patch_11\">\n    <path clip-path=\"url(#pda774f4206)\" d=\"M 230.1525 224.64 \nL 241.3125 224.64 \nL 241.3125 118.954176 \nL 230.1525 118.954176 \nz\n\" style=\"fill:#1f77b4;\"/>\n   </g>\n   <g id=\"patch_12\">\n    <path clip-path=\"url(#pda774f4206)\" d=\"M 252.4725 224.64 \nL 263.6325 224.64 \nL 263.6325 84.611953 \nL 252.4725 84.611953 \nz\n\" style=\"fill:#1f77b4;\"/>\n   </g>\n   <g id=\"patch_13\">\n    <path clip-path=\"url(#pda774f4206)\" d=\"M 274.7925 224.64 \nL 285.9525 224.64 \nL 285.9525 49.166963 \nL 274.7925 49.166963 \nz\n\" style=\"fill:#1f77b4;\"/>\n   </g>\n   <g id=\"patch_14\">\n    <path clip-path=\"url(#pda774f4206)\" d=\"M 297.1125 224.64 \nL 308.2725 224.64 \nL 308.2725 30.537226 \nL 297.1125 30.537226 \nz\n\" style=\"fill:#1f77b4;\"/>\n   </g>\n   <g id=\"patch_15\">\n    <path clip-path=\"url(#pda774f4206)\" d=\"M 319.4325 224.64 \nL 330.5925 224.64 \nL 330.5925 24.812218 \nL 319.4325 24.812218 \nz\n\" style=\"fill:#1f77b4;\"/>\n   </g>\n   <g id=\"patch_16\">\n    <path clip-path=\"url(#pda774f4206)\" d=\"M 341.7525 224.64 \nL 352.9125 224.64 \nL 352.9125 17.554286 \nL 341.7525 17.554286 \nz\n\" style=\"fill:#1f77b4;\"/>\n   </g>\n   <g id=\"patch_17\">\n    <path clip-path=\"url(#pda774f4206)\" d=\"M 364.0725 224.64 \nL 375.2325 224.64 \nL 375.2325 53.541536 \nL 364.0725 53.541536 \nz\n\" style=\"fill:#1f77b4;\"/>\n   </g>\n   <g id=\"matplotlib.axis_1\">\n    <g id=\"xtick_1\">\n     <g id=\"line2d_1\">\n      <defs>\n       <path d=\"M 0 0 \nL 0 3.5 \n\" id=\"mc6f2778992\" style=\"stroke:#000000;stroke-width:0.8;\"/>\n      </defs>\n      <g>\n       <use style=\"stroke:#000000;stroke-width:0.8;\" x=\"57.1725\" xlink:href=\"#mc6f2778992\" y=\"224.64\"/>\n      </g>\n     </g>\n     <g id=\"text_1\">\n      <!-- 2005 -->\n      <defs>\n       <path d=\"M 19.1875 8.296875 \nL 53.609375 8.296875 \nL 53.609375 0 \nL 7.328125 0 \nL 7.328125 8.296875 \nQ 12.9375 14.109375 22.625 23.890625 \nQ 32.328125 33.6875 34.8125 36.53125 \nQ 39.546875 41.84375 41.421875 45.53125 \nQ 43.3125 49.21875 43.3125 52.78125 \nQ 43.3125 58.59375 39.234375 62.25 \nQ 35.15625 65.921875 28.609375 65.921875 \nQ 23.96875 65.921875 18.8125 64.3125 \nQ 13.671875 62.703125 7.8125 59.421875 \nL 7.8125 69.390625 \nQ 13.765625 71.78125 18.9375 73 \nQ 24.125 74.21875 28.421875 74.21875 \nQ 39.75 74.21875 46.484375 68.546875 \nQ 53.21875 62.890625 53.21875 53.421875 \nQ 53.21875 48.921875 51.53125 44.890625 \nQ 49.859375 40.875 45.40625 35.40625 \nQ 44.1875 33.984375 37.640625 27.21875 \nQ 31.109375 20.453125 19.1875 8.296875 \nz\n\" id=\"DejaVuSans-50\"/>\n       <path d=\"M 31.78125 66.40625 \nQ 24.171875 66.40625 20.328125 58.90625 \nQ 16.5 51.421875 16.5 36.375 \nQ 16.5 21.390625 20.328125 13.890625 \nQ 24.171875 6.390625 31.78125 6.390625 \nQ 39.453125 6.390625 43.28125 13.890625 \nQ 47.125 21.390625 47.125 36.375 \nQ 47.125 51.421875 43.28125 58.90625 \nQ 39.453125 66.40625 31.78125 66.40625 \nz\nM 31.78125 74.21875 \nQ 44.046875 74.21875 50.515625 64.515625 \nQ 56.984375 54.828125 56.984375 36.375 \nQ 56.984375 17.96875 50.515625 8.265625 \nQ 44.046875 -1.421875 31.78125 -1.421875 \nQ 19.53125 -1.421875 13.0625 8.265625 \nQ 6.59375 17.96875 6.59375 36.375 \nQ 6.59375 54.828125 13.0625 64.515625 \nQ 19.53125 74.21875 31.78125 74.21875 \nz\n\" id=\"DejaVuSans-48\"/>\n       <path d=\"M 10.796875 72.90625 \nL 49.515625 72.90625 \nL 49.515625 64.59375 \nL 19.828125 64.59375 \nL 19.828125 46.734375 \nQ 21.96875 47.46875 24.109375 47.828125 \nQ 26.265625 48.1875 28.421875 48.1875 \nQ 40.625 48.1875 47.75 41.5 \nQ 54.890625 34.8125 54.890625 23.390625 \nQ 54.890625 11.625 47.5625 5.09375 \nQ 40.234375 -1.421875 26.90625 -1.421875 \nQ 22.3125 -1.421875 17.546875 -0.640625 \nQ 12.796875 0.140625 7.71875 1.703125 \nL 7.71875 11.625 \nQ 12.109375 9.234375 16.796875 8.0625 \nQ 21.484375 6.890625 26.703125 6.890625 \nQ 35.15625 6.890625 40.078125 11.328125 \nQ 45.015625 15.765625 45.015625 23.390625 \nQ 45.015625 31 40.078125 35.4375 \nQ 35.15625 39.890625 26.703125 39.890625 \nQ 22.75 39.890625 18.8125 39.015625 \nQ 14.890625 38.140625 10.796875 36.28125 \nz\n\" id=\"DejaVuSans-53\"/>\n      </defs>\n      <g transform=\"translate(59.931875 257.09)rotate(-90)scale(0.1 -0.1)\">\n       <use xlink:href=\"#DejaVuSans-50\"/>\n       <use x=\"63.623047\" xlink:href=\"#DejaVuSans-48\"/>\n       <use x=\"127.246094\" xlink:href=\"#DejaVuSans-48\"/>\n       <use x=\"190.869141\" xlink:href=\"#DejaVuSans-53\"/>\n      </g>\n     </g>\n    </g>\n    <g id=\"xtick_2\">\n     <g id=\"line2d_2\">\n      <g>\n       <use style=\"stroke:#000000;stroke-width:0.8;\" x=\"79.4925\" xlink:href=\"#mc6f2778992\" y=\"224.64\"/>\n      </g>\n     </g>\n     <g id=\"text_2\">\n      <!-- 2006 -->\n      <defs>\n       <path d=\"M 33.015625 40.375 \nQ 26.375 40.375 22.484375 35.828125 \nQ 18.609375 31.296875 18.609375 23.390625 \nQ 18.609375 15.53125 22.484375 10.953125 \nQ 26.375 6.390625 33.015625 6.390625 \nQ 39.65625 6.390625 43.53125 10.953125 \nQ 47.40625 15.53125 47.40625 23.390625 \nQ 47.40625 31.296875 43.53125 35.828125 \nQ 39.65625 40.375 33.015625 40.375 \nz\nM 52.59375 71.296875 \nL 52.59375 62.3125 \nQ 48.875 64.0625 45.09375 64.984375 \nQ 41.3125 65.921875 37.59375 65.921875 \nQ 27.828125 65.921875 22.671875 59.328125 \nQ 17.53125 52.734375 16.796875 39.40625 \nQ 19.671875 43.65625 24.015625 45.921875 \nQ 28.375 48.1875 33.59375 48.1875 \nQ 44.578125 48.1875 50.953125 41.515625 \nQ 57.328125 34.859375 57.328125 23.390625 \nQ 57.328125 12.15625 50.6875 5.359375 \nQ 44.046875 -1.421875 33.015625 -1.421875 \nQ 20.359375 -1.421875 13.671875 8.265625 \nQ 6.984375 17.96875 6.984375 36.375 \nQ 6.984375 53.65625 15.1875 63.9375 \nQ 23.390625 74.21875 37.203125 74.21875 \nQ 40.921875 74.21875 44.703125 73.484375 \nQ 48.484375 72.75 52.59375 71.296875 \nz\n\" id=\"DejaVuSans-54\"/>\n      </defs>\n      <g transform=\"translate(82.251875 257.09)rotate(-90)scale(0.1 -0.1)\">\n       <use xlink:href=\"#DejaVuSans-50\"/>\n       <use x=\"63.623047\" xlink:href=\"#DejaVuSans-48\"/>\n       <use x=\"127.246094\" xlink:href=\"#DejaVuSans-48\"/>\n       <use x=\"190.869141\" xlink:href=\"#DejaVuSans-54\"/>\n      </g>\n     </g>\n    </g>\n    <g id=\"xtick_3\">\n     <g id=\"line2d_3\">\n      <g>\n       <use style=\"stroke:#000000;stroke-width:0.8;\" x=\"101.8125\" xlink:href=\"#mc6f2778992\" y=\"224.64\"/>\n      </g>\n     </g>\n     <g id=\"text_3\">\n      <!-- 2007 -->\n      <defs>\n       <path d=\"M 8.203125 72.90625 \nL 55.078125 72.90625 \nL 55.078125 68.703125 \nL 28.609375 0 \nL 18.3125 0 \nL 43.21875 64.59375 \nL 8.203125 64.59375 \nz\n\" id=\"DejaVuSans-55\"/>\n      </defs>\n      <g transform=\"translate(104.571875 257.09)rotate(-90)scale(0.1 -0.1)\">\n       <use xlink:href=\"#DejaVuSans-50\"/>\n       <use x=\"63.623047\" xlink:href=\"#DejaVuSans-48\"/>\n       <use x=\"127.246094\" xlink:href=\"#DejaVuSans-48\"/>\n       <use x=\"190.869141\" xlink:href=\"#DejaVuSans-55\"/>\n      </g>\n     </g>\n    </g>\n    <g id=\"xtick_4\">\n     <g id=\"line2d_4\">\n      <g>\n       <use style=\"stroke:#000000;stroke-width:0.8;\" x=\"124.1325\" xlink:href=\"#mc6f2778992\" y=\"224.64\"/>\n      </g>\n     </g>\n     <g id=\"text_4\">\n      <!-- 2008 -->\n      <defs>\n       <path d=\"M 31.78125 34.625 \nQ 24.75 34.625 20.71875 30.859375 \nQ 16.703125 27.09375 16.703125 20.515625 \nQ 16.703125 13.921875 20.71875 10.15625 \nQ 24.75 6.390625 31.78125 6.390625 \nQ 38.8125 6.390625 42.859375 10.171875 \nQ 46.921875 13.96875 46.921875 20.515625 \nQ 46.921875 27.09375 42.890625 30.859375 \nQ 38.875 34.625 31.78125 34.625 \nz\nM 21.921875 38.8125 \nQ 15.578125 40.375 12.03125 44.71875 \nQ 8.5 49.078125 8.5 55.328125 \nQ 8.5 64.0625 14.71875 69.140625 \nQ 20.953125 74.21875 31.78125 74.21875 \nQ 42.671875 74.21875 48.875 69.140625 \nQ 55.078125 64.0625 55.078125 55.328125 \nQ 55.078125 49.078125 51.53125 44.71875 \nQ 48 40.375 41.703125 38.8125 \nQ 48.828125 37.15625 52.796875 32.3125 \nQ 56.78125 27.484375 56.78125 20.515625 \nQ 56.78125 9.90625 50.3125 4.234375 \nQ 43.84375 -1.421875 31.78125 -1.421875 \nQ 19.734375 -1.421875 13.25 4.234375 \nQ 6.78125 9.90625 6.78125 20.515625 \nQ 6.78125 27.484375 10.78125 32.3125 \nQ 14.796875 37.15625 21.921875 38.8125 \nz\nM 18.3125 54.390625 \nQ 18.3125 48.734375 21.84375 45.5625 \nQ 25.390625 42.390625 31.78125 42.390625 \nQ 38.140625 42.390625 41.71875 45.5625 \nQ 45.3125 48.734375 45.3125 54.390625 \nQ 45.3125 60.0625 41.71875 63.234375 \nQ 38.140625 66.40625 31.78125 66.40625 \nQ 25.390625 66.40625 21.84375 63.234375 \nQ 18.3125 60.0625 18.3125 54.390625 \nz\n\" id=\"DejaVuSans-56\"/>\n      </defs>\n      <g transform=\"translate(126.891875 257.09)rotate(-90)scale(0.1 -0.1)\">\n       <use xlink:href=\"#DejaVuSans-50\"/>\n       <use x=\"63.623047\" xlink:href=\"#DejaVuSans-48\"/>\n       <use x=\"127.246094\" xlink:href=\"#DejaVuSans-48\"/>\n       <use x=\"190.869141\" xlink:href=\"#DejaVuSans-56\"/>\n      </g>\n     </g>\n    </g>\n    <g id=\"xtick_5\">\n     <g id=\"line2d_5\">\n      <g>\n       <use style=\"stroke:#000000;stroke-width:0.8;\" x=\"146.4525\" xlink:href=\"#mc6f2778992\" y=\"224.64\"/>\n      </g>\n     </g>\n     <g id=\"text_5\">\n      <!-- 2009 -->\n      <defs>\n       <path d=\"M 10.984375 1.515625 \nL 10.984375 10.5 \nQ 14.703125 8.734375 18.5 7.8125 \nQ 22.3125 6.890625 25.984375 6.890625 \nQ 35.75 6.890625 40.890625 13.453125 \nQ 46.046875 20.015625 46.78125 33.40625 \nQ 43.953125 29.203125 39.59375 26.953125 \nQ 35.25 24.703125 29.984375 24.703125 \nQ 19.046875 24.703125 12.671875 31.3125 \nQ 6.296875 37.9375 6.296875 49.421875 \nQ 6.296875 60.640625 12.9375 67.421875 \nQ 19.578125 74.21875 30.609375 74.21875 \nQ 43.265625 74.21875 49.921875 64.515625 \nQ 56.59375 54.828125 56.59375 36.375 \nQ 56.59375 19.140625 48.40625 8.859375 \nQ 40.234375 -1.421875 26.421875 -1.421875 \nQ 22.703125 -1.421875 18.890625 -0.6875 \nQ 15.09375 0.046875 10.984375 1.515625 \nz\nM 30.609375 32.421875 \nQ 37.25 32.421875 41.125 36.953125 \nQ 45.015625 41.5 45.015625 49.421875 \nQ 45.015625 57.28125 41.125 61.84375 \nQ 37.25 66.40625 30.609375 66.40625 \nQ 23.96875 66.40625 20.09375 61.84375 \nQ 16.21875 57.28125 16.21875 49.421875 \nQ 16.21875 41.5 20.09375 36.953125 \nQ 23.96875 32.421875 30.609375 32.421875 \nz\n\" id=\"DejaVuSans-57\"/>\n      </defs>\n      <g transform=\"translate(149.211875 257.09)rotate(-90)scale(0.1 -0.1)\">\n       <use xlink:href=\"#DejaVuSans-50\"/>\n       <use x=\"63.623047\" xlink:href=\"#DejaVuSans-48\"/>\n       <use x=\"127.246094\" xlink:href=\"#DejaVuSans-48\"/>\n       <use x=\"190.869141\" xlink:href=\"#DejaVuSans-57\"/>\n      </g>\n     </g>\n    </g>\n    <g id=\"xtick_6\">\n     <g id=\"line2d_6\">\n      <g>\n       <use style=\"stroke:#000000;stroke-width:0.8;\" x=\"168.7725\" xlink:href=\"#mc6f2778992\" y=\"224.64\"/>\n      </g>\n     </g>\n     <g id=\"text_6\">\n      <!-- 2010 -->\n      <defs>\n       <path d=\"M 12.40625 8.296875 \nL 28.515625 8.296875 \nL 28.515625 63.921875 \nL 10.984375 60.40625 \nL 10.984375 69.390625 \nL 28.421875 72.90625 \nL 38.28125 72.90625 \nL 38.28125 8.296875 \nL 54.390625 8.296875 \nL 54.390625 0 \nL 12.40625 0 \nz\n\" id=\"DejaVuSans-49\"/>\n      </defs>\n      <g transform=\"translate(171.531875 257.09)rotate(-90)scale(0.1 -0.1)\">\n       <use xlink:href=\"#DejaVuSans-50\"/>\n       <use x=\"63.623047\" xlink:href=\"#DejaVuSans-48\"/>\n       <use x=\"127.246094\" xlink:href=\"#DejaVuSans-49\"/>\n       <use x=\"190.869141\" xlink:href=\"#DejaVuSans-48\"/>\n      </g>\n     </g>\n    </g>\n    <g id=\"xtick_7\">\n     <g id=\"line2d_7\">\n      <g>\n       <use style=\"stroke:#000000;stroke-width:0.8;\" x=\"191.0925\" xlink:href=\"#mc6f2778992\" y=\"224.64\"/>\n      </g>\n     </g>\n     <g id=\"text_7\">\n      <!-- 2011 -->\n      <g transform=\"translate(193.851875 257.09)rotate(-90)scale(0.1 -0.1)\">\n       <use xlink:href=\"#DejaVuSans-50\"/>\n       <use x=\"63.623047\" xlink:href=\"#DejaVuSans-48\"/>\n       <use x=\"127.246094\" xlink:href=\"#DejaVuSans-49\"/>\n       <use x=\"190.869141\" xlink:href=\"#DejaVuSans-49\"/>\n      </g>\n     </g>\n    </g>\n    <g id=\"xtick_8\">\n     <g id=\"line2d_8\">\n      <g>\n       <use style=\"stroke:#000000;stroke-width:0.8;\" x=\"213.4125\" xlink:href=\"#mc6f2778992\" y=\"224.64\"/>\n      </g>\n     </g>\n     <g id=\"text_8\">\n      <!-- 2012 -->\n      <g transform=\"translate(216.171875 257.09)rotate(-90)scale(0.1 -0.1)\">\n       <use xlink:href=\"#DejaVuSans-50\"/>\n       <use x=\"63.623047\" xlink:href=\"#DejaVuSans-48\"/>\n       <use x=\"127.246094\" xlink:href=\"#DejaVuSans-49\"/>\n       <use x=\"190.869141\" xlink:href=\"#DejaVuSans-50\"/>\n      </g>\n     </g>\n    </g>\n    <g id=\"xtick_9\">\n     <g id=\"line2d_9\">\n      <g>\n       <use style=\"stroke:#000000;stroke-width:0.8;\" x=\"235.7325\" xlink:href=\"#mc6f2778992\" y=\"224.64\"/>\n      </g>\n     </g>\n     <g id=\"text_9\">\n      <!-- 2013 -->\n      <defs>\n       <path d=\"M 40.578125 39.3125 \nQ 47.65625 37.796875 51.625 33 \nQ 55.609375 28.21875 55.609375 21.1875 \nQ 55.609375 10.40625 48.1875 4.484375 \nQ 40.765625 -1.421875 27.09375 -1.421875 \nQ 22.515625 -1.421875 17.65625 -0.515625 \nQ 12.796875 0.390625 7.625 2.203125 \nL 7.625 11.71875 \nQ 11.71875 9.328125 16.59375 8.109375 \nQ 21.484375 6.890625 26.8125 6.890625 \nQ 36.078125 6.890625 40.9375 10.546875 \nQ 45.796875 14.203125 45.796875 21.1875 \nQ 45.796875 27.640625 41.28125 31.265625 \nQ 36.765625 34.90625 28.71875 34.90625 \nL 20.21875 34.90625 \nL 20.21875 43.015625 \nL 29.109375 43.015625 \nQ 36.375 43.015625 40.234375 45.921875 \nQ 44.09375 48.828125 44.09375 54.296875 \nQ 44.09375 59.90625 40.109375 62.90625 \nQ 36.140625 65.921875 28.71875 65.921875 \nQ 24.65625 65.921875 20.015625 65.03125 \nQ 15.375 64.15625 9.8125 62.3125 \nL 9.8125 71.09375 \nQ 15.4375 72.65625 20.34375 73.4375 \nQ 25.25 74.21875 29.59375 74.21875 \nQ 40.828125 74.21875 47.359375 69.109375 \nQ 53.90625 64.015625 53.90625 55.328125 \nQ 53.90625 49.265625 50.4375 45.09375 \nQ 46.96875 40.921875 40.578125 39.3125 \nz\n\" id=\"DejaVuSans-51\"/>\n      </defs>\n      <g transform=\"translate(238.491875 257.09)rotate(-90)scale(0.1 -0.1)\">\n       <use xlink:href=\"#DejaVuSans-50\"/>\n       <use x=\"63.623047\" xlink:href=\"#DejaVuSans-48\"/>\n       <use x=\"127.246094\" xlink:href=\"#DejaVuSans-49\"/>\n       <use x=\"190.869141\" xlink:href=\"#DejaVuSans-51\"/>\n      </g>\n     </g>\n    </g>\n    <g id=\"xtick_10\">\n     <g id=\"line2d_10\">\n      <g>\n       <use style=\"stroke:#000000;stroke-width:0.8;\" x=\"258.0525\" xlink:href=\"#mc6f2778992\" y=\"224.64\"/>\n      </g>\n     </g>\n     <g id=\"text_10\">\n      <!-- 2014 -->\n      <defs>\n       <path d=\"M 37.796875 64.3125 \nL 12.890625 25.390625 \nL 37.796875 25.390625 \nz\nM 35.203125 72.90625 \nL 47.609375 72.90625 \nL 47.609375 25.390625 \nL 58.015625 25.390625 \nL 58.015625 17.1875 \nL 47.609375 17.1875 \nL 47.609375 0 \nL 37.796875 0 \nL 37.796875 17.1875 \nL 4.890625 17.1875 \nL 4.890625 26.703125 \nz\n\" id=\"DejaVuSans-52\"/>\n      </defs>\n      <g transform=\"translate(260.811875 257.09)rotate(-90)scale(0.1 -0.1)\">\n       <use xlink:href=\"#DejaVuSans-50\"/>\n       <use x=\"63.623047\" xlink:href=\"#DejaVuSans-48\"/>\n       <use x=\"127.246094\" xlink:href=\"#DejaVuSans-49\"/>\n       <use x=\"190.869141\" xlink:href=\"#DejaVuSans-52\"/>\n      </g>\n     </g>\n    </g>\n    <g id=\"xtick_11\">\n     <g id=\"line2d_11\">\n      <g>\n       <use style=\"stroke:#000000;stroke-width:0.8;\" x=\"280.3725\" xlink:href=\"#mc6f2778992\" y=\"224.64\"/>\n      </g>\n     </g>\n     <g id=\"text_11\">\n      <!-- 2015 -->\n      <g transform=\"translate(283.131875 257.09)rotate(-90)scale(0.1 -0.1)\">\n       <use xlink:href=\"#DejaVuSans-50\"/>\n       <use x=\"63.623047\" xlink:href=\"#DejaVuSans-48\"/>\n       <use x=\"127.246094\" xlink:href=\"#DejaVuSans-49\"/>\n       <use x=\"190.869141\" xlink:href=\"#DejaVuSans-53\"/>\n      </g>\n     </g>\n    </g>\n    <g id=\"xtick_12\">\n     <g id=\"line2d_12\">\n      <g>\n       <use style=\"stroke:#000000;stroke-width:0.8;\" x=\"302.6925\" xlink:href=\"#mc6f2778992\" y=\"224.64\"/>\n      </g>\n     </g>\n     <g id=\"text_12\">\n      <!-- 2016 -->\n      <g transform=\"translate(305.451875 257.09)rotate(-90)scale(0.1 -0.1)\">\n       <use xlink:href=\"#DejaVuSans-50\"/>\n       <use x=\"63.623047\" xlink:href=\"#DejaVuSans-48\"/>\n       <use x=\"127.246094\" xlink:href=\"#DejaVuSans-49\"/>\n       <use x=\"190.869141\" xlink:href=\"#DejaVuSans-54\"/>\n      </g>\n     </g>\n    </g>\n    <g id=\"xtick_13\">\n     <g id=\"line2d_13\">\n      <g>\n       <use style=\"stroke:#000000;stroke-width:0.8;\" x=\"325.0125\" xlink:href=\"#mc6f2778992\" y=\"224.64\"/>\n      </g>\n     </g>\n     <g id=\"text_13\">\n      <!-- 2017 -->\n      <g transform=\"translate(327.771875 257.09)rotate(-90)scale(0.1 -0.1)\">\n       <use xlink:href=\"#DejaVuSans-50\"/>\n       <use x=\"63.623047\" xlink:href=\"#DejaVuSans-48\"/>\n       <use x=\"127.246094\" xlink:href=\"#DejaVuSans-49\"/>\n       <use x=\"190.869141\" xlink:href=\"#DejaVuSans-55\"/>\n      </g>\n     </g>\n    </g>\n    <g id=\"xtick_14\">\n     <g id=\"line2d_14\">\n      <g>\n       <use style=\"stroke:#000000;stroke-width:0.8;\" x=\"347.3325\" xlink:href=\"#mc6f2778992\" y=\"224.64\"/>\n      </g>\n     </g>\n     <g id=\"text_14\">\n      <!-- 2018 -->\n      <g transform=\"translate(350.091875 257.09)rotate(-90)scale(0.1 -0.1)\">\n       <use xlink:href=\"#DejaVuSans-50\"/>\n       <use x=\"63.623047\" xlink:href=\"#DejaVuSans-48\"/>\n       <use x=\"127.246094\" xlink:href=\"#DejaVuSans-49\"/>\n       <use x=\"190.869141\" xlink:href=\"#DejaVuSans-56\"/>\n      </g>\n     </g>\n    </g>\n    <g id=\"xtick_15\">\n     <g id=\"line2d_15\">\n      <g>\n       <use style=\"stroke:#000000;stroke-width:0.8;\" x=\"369.6525\" xlink:href=\"#mc6f2778992\" y=\"224.64\"/>\n      </g>\n     </g>\n     <g id=\"text_15\">\n      <!-- 2019 -->\n      <g transform=\"translate(372.411875 257.09)rotate(-90)scale(0.1 -0.1)\">\n       <use xlink:href=\"#DejaVuSans-50\"/>\n       <use x=\"63.623047\" xlink:href=\"#DejaVuSans-48\"/>\n       <use x=\"127.246094\" xlink:href=\"#DejaVuSans-49\"/>\n       <use x=\"190.869141\" xlink:href=\"#DejaVuSans-57\"/>\n      </g>\n     </g>\n    </g>\n    <g id=\"text_16\">\n     <!-- date -->\n     <defs>\n      <path d=\"M 45.40625 46.390625 \nL 45.40625 75.984375 \nL 54.390625 75.984375 \nL 54.390625 0 \nL 45.40625 0 \nL 45.40625 8.203125 \nQ 42.578125 3.328125 38.25 0.953125 \nQ 33.9375 -1.421875 27.875 -1.421875 \nQ 17.96875 -1.421875 11.734375 6.484375 \nQ 5.515625 14.40625 5.515625 27.296875 \nQ 5.515625 40.1875 11.734375 48.09375 \nQ 17.96875 56 27.875 56 \nQ 33.9375 56 38.25 53.625 \nQ 42.578125 51.265625 45.40625 46.390625 \nz\nM 14.796875 27.296875 \nQ 14.796875 17.390625 18.875 11.75 \nQ 22.953125 6.109375 30.078125 6.109375 \nQ 37.203125 6.109375 41.296875 11.75 \nQ 45.40625 17.390625 45.40625 27.296875 \nQ 45.40625 37.203125 41.296875 42.84375 \nQ 37.203125 48.484375 30.078125 48.484375 \nQ 22.953125 48.484375 18.875 42.84375 \nQ 14.796875 37.203125 14.796875 27.296875 \nz\n\" id=\"DejaVuSans-100\"/>\n      <path d=\"M 34.28125 27.484375 \nQ 23.390625 27.484375 19.1875 25 \nQ 14.984375 22.515625 14.984375 16.5 \nQ 14.984375 11.71875 18.140625 8.90625 \nQ 21.296875 6.109375 26.703125 6.109375 \nQ 34.1875 6.109375 38.703125 11.40625 \nQ 43.21875 16.703125 43.21875 25.484375 \nL 43.21875 27.484375 \nz\nM 52.203125 31.203125 \nL 52.203125 0 \nL 43.21875 0 \nL 43.21875 8.296875 \nQ 40.140625 3.328125 35.546875 0.953125 \nQ 30.953125 -1.421875 24.3125 -1.421875 \nQ 15.921875 -1.421875 10.953125 3.296875 \nQ 6 8.015625 6 15.921875 \nQ 6 25.140625 12.171875 29.828125 \nQ 18.359375 34.515625 30.609375 34.515625 \nL 43.21875 34.515625 \nL 43.21875 35.40625 \nQ 43.21875 41.609375 39.140625 45 \nQ 35.0625 48.390625 27.6875 48.390625 \nQ 23 48.390625 18.546875 47.265625 \nQ 14.109375 46.140625 10.015625 43.890625 \nL 10.015625 52.203125 \nQ 14.9375 54.109375 19.578125 55.046875 \nQ 24.21875 56 28.609375 56 \nQ 40.484375 56 46.34375 49.84375 \nQ 52.203125 43.703125 52.203125 31.203125 \nz\n\" id=\"DejaVuSans-97\"/>\n      <path d=\"M 18.3125 70.21875 \nL 18.3125 54.6875 \nL 36.8125 54.6875 \nL 36.8125 47.703125 \nL 18.3125 47.703125 \nL 18.3125 18.015625 \nQ 18.3125 11.328125 20.140625 9.421875 \nQ 21.96875 7.515625 27.59375 7.515625 \nL 36.8125 7.515625 \nL 36.8125 0 \nL 27.59375 0 \nQ 17.1875 0 13.234375 3.875 \nQ 9.28125 7.765625 9.28125 18.015625 \nL 9.28125 47.703125 \nL 2.6875 47.703125 \nL 2.6875 54.6875 \nL 9.28125 54.6875 \nL 9.28125 70.21875 \nz\n\" id=\"DejaVuSans-116\"/>\n      <path d=\"M 56.203125 29.59375 \nL 56.203125 25.203125 \nL 14.890625 25.203125 \nQ 15.484375 15.921875 20.484375 11.0625 \nQ 25.484375 6.203125 34.421875 6.203125 \nQ 39.59375 6.203125 44.453125 7.46875 \nQ 49.3125 8.734375 54.109375 11.28125 \nL 54.109375 2.78125 \nQ 49.265625 0.734375 44.1875 -0.34375 \nQ 39.109375 -1.421875 33.890625 -1.421875 \nQ 20.796875 -1.421875 13.15625 6.1875 \nQ 5.515625 13.8125 5.515625 26.8125 \nQ 5.515625 40.234375 12.765625 48.109375 \nQ 20.015625 56 32.328125 56 \nQ 43.359375 56 49.78125 48.890625 \nQ 56.203125 41.796875 56.203125 29.59375 \nz\nM 47.21875 32.234375 \nQ 47.125 39.59375 43.09375 43.984375 \nQ 39.0625 48.390625 32.421875 48.390625 \nQ 24.90625 48.390625 20.390625 44.140625 \nQ 15.875 39.890625 15.1875 32.171875 \nz\n\" id=\"DejaVuSans-101\"/>\n     </defs>\n     <g transform=\"translate(202.1375 268.688437)scale(0.1 -0.1)\">\n      <use xlink:href=\"#DejaVuSans-100\"/>\n      <use x=\"63.476562\" xlink:href=\"#DejaVuSans-97\"/>\n      <use x=\"124.755859\" xlink:href=\"#DejaVuSans-116\"/>\n      <use x=\"163.964844\" xlink:href=\"#DejaVuSans-101\"/>\n     </g>\n    </g>\n   </g>\n   <g id=\"matplotlib.axis_2\">\n    <g id=\"ytick_1\">\n     <g id=\"line2d_16\">\n      <defs>\n       <path d=\"M 0 0 \nL -3.5 0 \n\" id=\"m2605466045\" style=\"stroke:#000000;stroke-width:0.8;\"/>\n      </defs>\n      <g>\n       <use style=\"stroke:#000000;stroke-width:0.8;\" x=\"46.0125\" xlink:href=\"#m2605466045\" y=\"224.64\"/>\n      </g>\n     </g>\n     <g id=\"text_17\">\n      <!-- 0 -->\n      <g transform=\"translate(32.65 228.439219)scale(0.1 -0.1)\">\n       <use xlink:href=\"#DejaVuSans-48\"/>\n      </g>\n     </g>\n    </g>\n    <g id=\"ytick_2\">\n     <g id=\"line2d_17\">\n      <g>\n       <use style=\"stroke:#000000;stroke-width:0.8;\" x=\"46.0125\" xlink:href=\"#m2605466045\" y=\"198.569839\"/>\n      </g>\n     </g>\n     <g id=\"text_18\">\n      <!-- 10000 -->\n      <g transform=\"translate(7.2 202.369058)scale(0.1 -0.1)\">\n       <use xlink:href=\"#DejaVuSans-49\"/>\n       <use x=\"63.623047\" xlink:href=\"#DejaVuSans-48\"/>\n       <use x=\"127.246094\" xlink:href=\"#DejaVuSans-48\"/>\n       <use x=\"190.869141\" xlink:href=\"#DejaVuSans-48\"/>\n       <use x=\"254.492188\" xlink:href=\"#DejaVuSans-48\"/>\n      </g>\n     </g>\n    </g>\n    <g id=\"ytick_3\">\n     <g id=\"line2d_18\">\n      <g>\n       <use style=\"stroke:#000000;stroke-width:0.8;\" x=\"46.0125\" xlink:href=\"#m2605466045\" y=\"172.499679\"/>\n      </g>\n     </g>\n     <g id=\"text_19\">\n      <!-- 20000 -->\n      <g transform=\"translate(7.2 176.298897)scale(0.1 -0.1)\">\n       <use xlink:href=\"#DejaVuSans-50\"/>\n       <use x=\"63.623047\" xlink:href=\"#DejaVuSans-48\"/>\n       <use x=\"127.246094\" xlink:href=\"#DejaVuSans-48\"/>\n       <use x=\"190.869141\" xlink:href=\"#DejaVuSans-48\"/>\n       <use x=\"254.492188\" xlink:href=\"#DejaVuSans-48\"/>\n      </g>\n     </g>\n    </g>\n    <g id=\"ytick_4\">\n     <g id=\"line2d_19\">\n      <g>\n       <use style=\"stroke:#000000;stroke-width:0.8;\" x=\"46.0125\" xlink:href=\"#m2605466045\" y=\"146.429518\"/>\n      </g>\n     </g>\n     <g id=\"text_20\">\n      <!-- 30000 -->\n      <g transform=\"translate(7.2 150.228737)scale(0.1 -0.1)\">\n       <use xlink:href=\"#DejaVuSans-51\"/>\n       <use x=\"63.623047\" xlink:href=\"#DejaVuSans-48\"/>\n       <use x=\"127.246094\" xlink:href=\"#DejaVuSans-48\"/>\n       <use x=\"190.869141\" xlink:href=\"#DejaVuSans-48\"/>\n       <use x=\"254.492188\" xlink:href=\"#DejaVuSans-48\"/>\n      </g>\n     </g>\n    </g>\n    <g id=\"ytick_5\">\n     <g id=\"line2d_20\">\n      <g>\n       <use style=\"stroke:#000000;stroke-width:0.8;\" x=\"46.0125\" xlink:href=\"#m2605466045\" y=\"120.359357\"/>\n      </g>\n     </g>\n     <g id=\"text_21\">\n      <!-- 40000 -->\n      <g transform=\"translate(7.2 124.158576)scale(0.1 -0.1)\">\n       <use xlink:href=\"#DejaVuSans-52\"/>\n       <use x=\"63.623047\" xlink:href=\"#DejaVuSans-48\"/>\n       <use x=\"127.246094\" xlink:href=\"#DejaVuSans-48\"/>\n       <use x=\"190.869141\" xlink:href=\"#DejaVuSans-48\"/>\n       <use x=\"254.492188\" xlink:href=\"#DejaVuSans-48\"/>\n      </g>\n     </g>\n    </g>\n    <g id=\"ytick_6\">\n     <g id=\"line2d_21\">\n      <g>\n       <use style=\"stroke:#000000;stroke-width:0.8;\" x=\"46.0125\" xlink:href=\"#m2605466045\" y=\"94.289197\"/>\n      </g>\n     </g>\n     <g id=\"text_22\">\n      <!-- 50000 -->\n      <g transform=\"translate(7.2 98.088415)scale(0.1 -0.1)\">\n       <use xlink:href=\"#DejaVuSans-53\"/>\n       <use x=\"63.623047\" xlink:href=\"#DejaVuSans-48\"/>\n       <use x=\"127.246094\" xlink:href=\"#DejaVuSans-48\"/>\n       <use x=\"190.869141\" xlink:href=\"#DejaVuSans-48\"/>\n       <use x=\"254.492188\" xlink:href=\"#DejaVuSans-48\"/>\n      </g>\n     </g>\n    </g>\n    <g id=\"ytick_7\">\n     <g id=\"line2d_22\">\n      <g>\n       <use style=\"stroke:#000000;stroke-width:0.8;\" x=\"46.0125\" xlink:href=\"#m2605466045\" y=\"68.219036\"/>\n      </g>\n     </g>\n     <g id=\"text_23\">\n      <!-- 60000 -->\n      <g transform=\"translate(7.2 72.018255)scale(0.1 -0.1)\">\n       <use xlink:href=\"#DejaVuSans-54\"/>\n       <use x=\"63.623047\" xlink:href=\"#DejaVuSans-48\"/>\n       <use x=\"127.246094\" xlink:href=\"#DejaVuSans-48\"/>\n       <use x=\"190.869141\" xlink:href=\"#DejaVuSans-48\"/>\n       <use x=\"254.492188\" xlink:href=\"#DejaVuSans-48\"/>\n      </g>\n     </g>\n    </g>\n    <g id=\"ytick_8\">\n     <g id=\"line2d_23\">\n      <g>\n       <use style=\"stroke:#000000;stroke-width:0.8;\" x=\"46.0125\" xlink:href=\"#m2605466045\" y=\"42.148875\"/>\n      </g>\n     </g>\n     <g id=\"text_24\">\n      <!-- 70000 -->\n      <g transform=\"translate(7.2 45.948094)scale(0.1 -0.1)\">\n       <use xlink:href=\"#DejaVuSans-55\"/>\n       <use x=\"63.623047\" xlink:href=\"#DejaVuSans-48\"/>\n       <use x=\"127.246094\" xlink:href=\"#DejaVuSans-48\"/>\n       <use x=\"190.869141\" xlink:href=\"#DejaVuSans-48\"/>\n       <use x=\"254.492188\" xlink:href=\"#DejaVuSans-48\"/>\n      </g>\n     </g>\n    </g>\n    <g id=\"ytick_9\">\n     <g id=\"line2d_24\">\n      <g>\n       <use style=\"stroke:#000000;stroke-width:0.8;\" x=\"46.0125\" xlink:href=\"#m2605466045\" y=\"16.078715\"/>\n      </g>\n     </g>\n     <g id=\"text_25\">\n      <!-- 80000 -->\n      <g transform=\"translate(7.2 19.877933)scale(0.1 -0.1)\">\n       <use xlink:href=\"#DejaVuSans-56\"/>\n       <use x=\"63.623047\" xlink:href=\"#DejaVuSans-48\"/>\n       <use x=\"127.246094\" xlink:href=\"#DejaVuSans-48\"/>\n       <use x=\"190.869141\" xlink:href=\"#DejaVuSans-48\"/>\n       <use x=\"254.492188\" xlink:href=\"#DejaVuSans-48\"/>\n      </g>\n     </g>\n    </g>\n   </g>\n   <g id=\"patch_18\">\n    <path d=\"M 46.0125 224.64 \nL 46.0125 7.2 \n\" style=\"fill:none;stroke:#000000;stroke-linecap:square;stroke-linejoin:miter;stroke-width:0.8;\"/>\n   </g>\n   <g id=\"patch_19\">\n    <path d=\"M 380.8125 224.64 \nL 380.8125 7.2 \n\" style=\"fill:none;stroke:#000000;stroke-linecap:square;stroke-linejoin:miter;stroke-width:0.8;\"/>\n   </g>\n   <g id=\"patch_20\">\n    <path d=\"M 46.0125 224.64 \nL 380.8125 224.64 \n\" style=\"fill:none;stroke:#000000;stroke-linecap:square;stroke-linejoin:miter;stroke-width:0.8;\"/>\n   </g>\n   <g id=\"patch_21\">\n    <path d=\"M 46.0125 7.2 \nL 380.8125 7.2 \n\" style=\"fill:none;stroke:#000000;stroke-linecap:square;stroke-linejoin:miter;stroke-width:0.8;\"/>\n   </g>\n  </g>\n </g>\n <defs>\n  <clipPath id=\"pda774f4206\">\n   <rect height=\"217.44\" width=\"334.8\" x=\"46.0125\" y=\"7.2\"/>\n  </clipPath>\n </defs>\n</svg>\n",
      "image/png": "[encoded data removed]"
     },
     "metadata": {
      "needs_background": "light"
     }
    }
   ],
   "source": [
    "# Visualise the reviews timestamps\n",
    "r = data['date'].groupby(data['date'].dt.year).count()\n",
    "r.plot(kind='bar')"
   ]
  },
  {
   "source": [
    "## grouping data by restraunts (`business_id`)"
   ],
   "cell_type": "markdown",
   "metadata": {}
  },
  {
   "cell_type": "code",
   "execution_count": 12,
   "metadata": {
    "tags": []
   },
   "outputs": [
    {
     "output_type": "execute_result",
     "data": {
      "text/plain": [
       "business_id\n",
       "--9e1ONYQuAa-CB_Rrw7Tw    1816\n",
       "-1UMR00eXtwaeh59pEiDjA     509\n",
       "-2pQf1ceDZyE2ReCNbj-3A      78\n",
       "-2pmn-oTJeybmDrL-ojwrw      25\n",
       "-4TMQnQJW1yd6NqGRDvAeA     421\n",
       "                          ... \n",
       "zkhBU5qW_zCy0q4OEtIrsA     324\n",
       "zkwuRqXWEfHniSHbxbdfuQ      22\n",
       "zmoQ2eIDyeKlKVGA8p9esQ      67\n",
       "zsQk990PubOHjr1YcLkQFw     264\n",
       "zsdcQyNJRP553oHEItm1iQ       9\n",
       "Name: business_id, Length: 1553, dtype: int64"
      ]
     },
     "metadata": {},
     "execution_count": 12
    }
   ],
   "source": [
    "# number of reviews for each restraunt\n",
    "data['business_id'].groupby(data['business_id']).count()"
   ]
  },
  {
   "cell_type": "code",
   "execution_count": 13,
   "metadata": {},
   "outputs": [
    {
     "output_type": "execute_result",
     "data": {
      "text/plain": [
       "<matplotlib.axes._subplots.AxesSubplot at 0x7f297053d6d0>"
      ]
     },
     "metadata": {},
     "execution_count": 13
    },
    {
     "output_type": "display_data",
     "data": {
      "text/plain": "<Figure size 432x288 with 1 Axes>",
      "image/svg+xml": "<?xml version=\"1.0\" encoding=\"utf-8\" standalone=\"no\"?>\n<!DOCTYPE svg PUBLIC \"-//W3C//DTD SVG 1.1//EN\"\n  \"http://www.w3.org/Graphics/SVG/1.1/DTD/svg11.dtd\">\n<!-- Created with matplotlib (https://matplotlib.org/) -->\n<svg height=\"277.968125pt\" version=\"1.1\" viewBox=\"0 0 375.2875 277.968125\" width=\"375.2875pt\" xmlns=\"http://www.w3.org/2000/svg\" xmlns:xlink=\"http://www.w3.org/1999/xlink\">\n <defs>\n  <style type=\"text/css\">\n*{stroke-linecap:butt;stroke-linejoin:round;}\n  </style>\n </defs>\n <g id=\"figure_1\">\n  <g id=\"patch_1\">\n   <path d=\"M 0 277.968125 \nL 375.2875 277.968125 \nL 375.2875 0 \nL 0 0 \nz\n\" style=\"fill:none;\"/>\n  </g>\n  <g id=\"axes_1\">\n   <g id=\"patch_2\">\n    <path d=\"M 33.2875 224.64 \nL 368.0875 224.64 \nL 368.0875 7.2 \nL 33.2875 7.2 \nz\n\" style=\"fill:#ffffff;\"/>\n   </g>\n   <g id=\"patch_3\">\n    <path clip-path=\"url(#p581c4f4831)\" d=\"M 47.2375 224.64 \nL 75.1375 224.64 \nL 75.1375 135.88898 \nL 47.2375 135.88898 \nz\n\" style=\"fill:#1f77b4;\"/>\n   </g>\n   <g id=\"patch_4\">\n    <path clip-path=\"url(#p581c4f4831)\" d=\"M 103.0375 224.64 \nL 130.9375 224.64 \nL 130.9375 116.746603 \nL 103.0375 116.746603 \nz\n\" style=\"fill:#1f77b4;\"/>\n   </g>\n   <g id=\"patch_5\">\n    <path clip-path=\"url(#p581c4f4831)\" d=\"M 158.8375 224.64 \nL 186.7375 224.64 \nL 186.7375 41.917311 \nL 158.8375 41.917311 \nz\n\" style=\"fill:#1f77b4;\"/>\n   </g>\n   <g id=\"patch_6\">\n    <path clip-path=\"url(#p581c4f4831)\" d=\"M 214.6375 224.64 \nL 242.5375 224.64 \nL 242.5375 17.554286 \nL 214.6375 17.554286 \nz\n\" style=\"fill:#1f77b4;\"/>\n   </g>\n   <g id=\"patch_7\">\n    <path clip-path=\"url(#p581c4f4831)\" d=\"M 270.4375 224.64 \nL 298.3375 224.64 \nL 298.3375 59.319472 \nL 270.4375 59.319472 \nz\n\" style=\"fill:#1f77b4;\"/>\n   </g>\n   <g id=\"patch_8\">\n    <path clip-path=\"url(#p581c4f4831)\" d=\"M 326.2375 224.64 \nL 354.1375 224.64 \nL 354.1375 90.643361 \nL 326.2375 90.643361 \nz\n\" style=\"fill:#1f77b4;\"/>\n   </g>\n   <g id=\"matplotlib.axis_1\">\n    <g id=\"xtick_1\">\n     <g id=\"line2d_1\">\n      <defs>\n       <path d=\"M 0 0 \nL 0 3.5 \n\" id=\"ma2298352a4\" style=\"stroke:#000000;stroke-width:0.8;\"/>\n      </defs>\n      <g>\n       <use style=\"stroke:#000000;stroke-width:0.8;\" x=\"61.1875\" xlink:href=\"#ma2298352a4\" y=\"224.64\"/>\n      </g>\n     </g>\n     <g id=\"text_1\">\n      <!-- 2014 -->\n      <defs>\n       <path d=\"M 19.1875 8.296875 \nL 53.609375 8.296875 \nL 53.609375 0 \nL 7.328125 0 \nL 7.328125 8.296875 \nQ 12.9375 14.109375 22.625 23.890625 \nQ 32.328125 33.6875 34.8125 36.53125 \nQ 39.546875 41.84375 41.421875 45.53125 \nQ 43.3125 49.21875 43.3125 52.78125 \nQ 43.3125 58.59375 39.234375 62.25 \nQ 35.15625 65.921875 28.609375 65.921875 \nQ 23.96875 65.921875 18.8125 64.3125 \nQ 13.671875 62.703125 7.8125 59.421875 \nL 7.8125 69.390625 \nQ 13.765625 71.78125 18.9375 73 \nQ 24.125 74.21875 28.421875 74.21875 \nQ 39.75 74.21875 46.484375 68.546875 \nQ 53.21875 62.890625 53.21875 53.421875 \nQ 53.21875 48.921875 51.53125 44.890625 \nQ 49.859375 40.875 45.40625 35.40625 \nQ 44.1875 33.984375 37.640625 27.21875 \nQ 31.109375 20.453125 19.1875 8.296875 \nz\n\" id=\"DejaVuSans-50\"/>\n       <path d=\"M 31.78125 66.40625 \nQ 24.171875 66.40625 20.328125 58.90625 \nQ 16.5 51.421875 16.5 36.375 \nQ 16.5 21.390625 20.328125 13.890625 \nQ 24.171875 6.390625 31.78125 6.390625 \nQ 39.453125 6.390625 43.28125 13.890625 \nQ 47.125 21.390625 47.125 36.375 \nQ 47.125 51.421875 43.28125 58.90625 \nQ 39.453125 66.40625 31.78125 66.40625 \nz\nM 31.78125 74.21875 \nQ 44.046875 74.21875 50.515625 64.515625 \nQ 56.984375 54.828125 56.984375 36.375 \nQ 56.984375 17.96875 50.515625 8.265625 \nQ 44.046875 -1.421875 31.78125 -1.421875 \nQ 19.53125 -1.421875 13.0625 8.265625 \nQ 6.59375 17.96875 6.59375 36.375 \nQ 6.59375 54.828125 13.0625 64.515625 \nQ 19.53125 74.21875 31.78125 74.21875 \nz\n\" id=\"DejaVuSans-48\"/>\n       <path d=\"M 12.40625 8.296875 \nL 28.515625 8.296875 \nL 28.515625 63.921875 \nL 10.984375 60.40625 \nL 10.984375 69.390625 \nL 28.421875 72.90625 \nL 38.28125 72.90625 \nL 38.28125 8.296875 \nL 54.390625 8.296875 \nL 54.390625 0 \nL 12.40625 0 \nz\n\" id=\"DejaVuSans-49\"/>\n       <path d=\"M 37.796875 64.3125 \nL 12.890625 25.390625 \nL 37.796875 25.390625 \nz\nM 35.203125 72.90625 \nL 47.609375 72.90625 \nL 47.609375 25.390625 \nL 58.015625 25.390625 \nL 58.015625 17.1875 \nL 47.609375 17.1875 \nL 47.609375 0 \nL 37.796875 0 \nL 37.796875 17.1875 \nL 4.890625 17.1875 \nL 4.890625 26.703125 \nz\n\" id=\"DejaVuSans-52\"/>\n      </defs>\n      <g transform=\"translate(63.946875 257.09)rotate(-90)scale(0.1 -0.1)\">\n       <use xlink:href=\"#DejaVuSans-50\"/>\n       <use x=\"63.623047\" xlink:href=\"#DejaVuSans-48\"/>\n       <use x=\"127.246094\" xlink:href=\"#DejaVuSans-49\"/>\n       <use x=\"190.869141\" xlink:href=\"#DejaVuSans-52\"/>\n      </g>\n     </g>\n    </g>\n    <g id=\"xtick_2\">\n     <g id=\"line2d_2\">\n      <g>\n       <use style=\"stroke:#000000;stroke-width:0.8;\" x=\"116.9875\" xlink:href=\"#ma2298352a4\" y=\"224.64\"/>\n      </g>\n     </g>\n     <g id=\"text_2\">\n      <!-- 2015 -->\n      <defs>\n       <path d=\"M 10.796875 72.90625 \nL 49.515625 72.90625 \nL 49.515625 64.59375 \nL 19.828125 64.59375 \nL 19.828125 46.734375 \nQ 21.96875 47.46875 24.109375 47.828125 \nQ 26.265625 48.1875 28.421875 48.1875 \nQ 40.625 48.1875 47.75 41.5 \nQ 54.890625 34.8125 54.890625 23.390625 \nQ 54.890625 11.625 47.5625 5.09375 \nQ 40.234375 -1.421875 26.90625 -1.421875 \nQ 22.3125 -1.421875 17.546875 -0.640625 \nQ 12.796875 0.140625 7.71875 1.703125 \nL 7.71875 11.625 \nQ 12.109375 9.234375 16.796875 8.0625 \nQ 21.484375 6.890625 26.703125 6.890625 \nQ 35.15625 6.890625 40.078125 11.328125 \nQ 45.015625 15.765625 45.015625 23.390625 \nQ 45.015625 31 40.078125 35.4375 \nQ 35.15625 39.890625 26.703125 39.890625 \nQ 22.75 39.890625 18.8125 39.015625 \nQ 14.890625 38.140625 10.796875 36.28125 \nz\n\" id=\"DejaVuSans-53\"/>\n      </defs>\n      <g transform=\"translate(119.746875 257.09)rotate(-90)scale(0.1 -0.1)\">\n       <use xlink:href=\"#DejaVuSans-50\"/>\n       <use x=\"63.623047\" xlink:href=\"#DejaVuSans-48\"/>\n       <use x=\"127.246094\" xlink:href=\"#DejaVuSans-49\"/>\n       <use x=\"190.869141\" xlink:href=\"#DejaVuSans-53\"/>\n      </g>\n     </g>\n    </g>\n    <g id=\"xtick_3\">\n     <g id=\"line2d_3\">\n      <g>\n       <use style=\"stroke:#000000;stroke-width:0.8;\" x=\"172.7875\" xlink:href=\"#ma2298352a4\" y=\"224.64\"/>\n      </g>\n     </g>\n     <g id=\"text_3\">\n      <!-- 2016 -->\n      <defs>\n       <path d=\"M 33.015625 40.375 \nQ 26.375 40.375 22.484375 35.828125 \nQ 18.609375 31.296875 18.609375 23.390625 \nQ 18.609375 15.53125 22.484375 10.953125 \nQ 26.375 6.390625 33.015625 6.390625 \nQ 39.65625 6.390625 43.53125 10.953125 \nQ 47.40625 15.53125 47.40625 23.390625 \nQ 47.40625 31.296875 43.53125 35.828125 \nQ 39.65625 40.375 33.015625 40.375 \nz\nM 52.59375 71.296875 \nL 52.59375 62.3125 \nQ 48.875 64.0625 45.09375 64.984375 \nQ 41.3125 65.921875 37.59375 65.921875 \nQ 27.828125 65.921875 22.671875 59.328125 \nQ 17.53125 52.734375 16.796875 39.40625 \nQ 19.671875 43.65625 24.015625 45.921875 \nQ 28.375 48.1875 33.59375 48.1875 \nQ 44.578125 48.1875 50.953125 41.515625 \nQ 57.328125 34.859375 57.328125 23.390625 \nQ 57.328125 12.15625 50.6875 5.359375 \nQ 44.046875 -1.421875 33.015625 -1.421875 \nQ 20.359375 -1.421875 13.671875 8.265625 \nQ 6.984375 17.96875 6.984375 36.375 \nQ 6.984375 53.65625 15.1875 63.9375 \nQ 23.390625 74.21875 37.203125 74.21875 \nQ 40.921875 74.21875 44.703125 73.484375 \nQ 48.484375 72.75 52.59375 71.296875 \nz\n\" id=\"DejaVuSans-54\"/>\n      </defs>\n      <g transform=\"translate(175.546875 257.09)rotate(-90)scale(0.1 -0.1)\">\n       <use xlink:href=\"#DejaVuSans-50\"/>\n       <use x=\"63.623047\" xlink:href=\"#DejaVuSans-48\"/>\n       <use x=\"127.246094\" xlink:href=\"#DejaVuSans-49\"/>\n       <use x=\"190.869141\" xlink:href=\"#DejaVuSans-54\"/>\n      </g>\n     </g>\n    </g>\n    <g id=\"xtick_4\">\n     <g id=\"line2d_4\">\n      <g>\n       <use style=\"stroke:#000000;stroke-width:0.8;\" x=\"228.5875\" xlink:href=\"#ma2298352a4\" y=\"224.64\"/>\n      </g>\n     </g>\n     <g id=\"text_4\">\n      <!-- 2017 -->\n      <defs>\n       <path d=\"M 8.203125 72.90625 \nL 55.078125 72.90625 \nL 55.078125 68.703125 \nL 28.609375 0 \nL 18.3125 0 \nL 43.21875 64.59375 \nL 8.203125 64.59375 \nz\n\" id=\"DejaVuSans-55\"/>\n      </defs>\n      <g transform=\"translate(231.346875 257.09)rotate(-90)scale(0.1 -0.1)\">\n       <use xlink:href=\"#DejaVuSans-50\"/>\n       <use x=\"63.623047\" xlink:href=\"#DejaVuSans-48\"/>\n       <use x=\"127.246094\" xlink:href=\"#DejaVuSans-49\"/>\n       <use x=\"190.869141\" xlink:href=\"#DejaVuSans-55\"/>\n      </g>\n     </g>\n    </g>\n    <g id=\"xtick_5\">\n     <g id=\"line2d_5\">\n      <g>\n       <use style=\"stroke:#000000;stroke-width:0.8;\" x=\"284.3875\" xlink:href=\"#ma2298352a4\" y=\"224.64\"/>\n      </g>\n     </g>\n     <g id=\"text_5\">\n      <!-- 2018 -->\n      <defs>\n       <path d=\"M 31.78125 34.625 \nQ 24.75 34.625 20.71875 30.859375 \nQ 16.703125 27.09375 16.703125 20.515625 \nQ 16.703125 13.921875 20.71875 10.15625 \nQ 24.75 6.390625 31.78125 6.390625 \nQ 38.8125 6.390625 42.859375 10.171875 \nQ 46.921875 13.96875 46.921875 20.515625 \nQ 46.921875 27.09375 42.890625 30.859375 \nQ 38.875 34.625 31.78125 34.625 \nz\nM 21.921875 38.8125 \nQ 15.578125 40.375 12.03125 44.71875 \nQ 8.5 49.078125 8.5 55.328125 \nQ 8.5 64.0625 14.71875 69.140625 \nQ 20.953125 74.21875 31.78125 74.21875 \nQ 42.671875 74.21875 48.875 69.140625 \nQ 55.078125 64.0625 55.078125 55.328125 \nQ 55.078125 49.078125 51.53125 44.71875 \nQ 48 40.375 41.703125 38.8125 \nQ 48.828125 37.15625 52.796875 32.3125 \nQ 56.78125 27.484375 56.78125 20.515625 \nQ 56.78125 9.90625 50.3125 4.234375 \nQ 43.84375 -1.421875 31.78125 -1.421875 \nQ 19.734375 -1.421875 13.25 4.234375 \nQ 6.78125 9.90625 6.78125 20.515625 \nQ 6.78125 27.484375 10.78125 32.3125 \nQ 14.796875 37.15625 21.921875 38.8125 \nz\nM 18.3125 54.390625 \nQ 18.3125 48.734375 21.84375 45.5625 \nQ 25.390625 42.390625 31.78125 42.390625 \nQ 38.140625 42.390625 41.71875 45.5625 \nQ 45.3125 48.734375 45.3125 54.390625 \nQ 45.3125 60.0625 41.71875 63.234375 \nQ 38.140625 66.40625 31.78125 66.40625 \nQ 25.390625 66.40625 21.84375 63.234375 \nQ 18.3125 60.0625 18.3125 54.390625 \nz\n\" id=\"DejaVuSans-56\"/>\n      </defs>\n      <g transform=\"translate(287.146875 257.09)rotate(-90)scale(0.1 -0.1)\">\n       <use xlink:href=\"#DejaVuSans-50\"/>\n       <use x=\"63.623047\" xlink:href=\"#DejaVuSans-48\"/>\n       <use x=\"127.246094\" xlink:href=\"#DejaVuSans-49\"/>\n       <use x=\"190.869141\" xlink:href=\"#DejaVuSans-56\"/>\n      </g>\n     </g>\n    </g>\n    <g id=\"xtick_6\">\n     <g id=\"line2d_6\">\n      <g>\n       <use style=\"stroke:#000000;stroke-width:0.8;\" x=\"340.1875\" xlink:href=\"#ma2298352a4\" y=\"224.64\"/>\n      </g>\n     </g>\n     <g id=\"text_6\">\n      <!-- 2019 -->\n      <defs>\n       <path d=\"M 10.984375 1.515625 \nL 10.984375 10.5 \nQ 14.703125 8.734375 18.5 7.8125 \nQ 22.3125 6.890625 25.984375 6.890625 \nQ 35.75 6.890625 40.890625 13.453125 \nQ 46.046875 20.015625 46.78125 33.40625 \nQ 43.953125 29.203125 39.59375 26.953125 \nQ 35.25 24.703125 29.984375 24.703125 \nQ 19.046875 24.703125 12.671875 31.3125 \nQ 6.296875 37.9375 6.296875 49.421875 \nQ 6.296875 60.640625 12.9375 67.421875 \nQ 19.578125 74.21875 30.609375 74.21875 \nQ 43.265625 74.21875 49.921875 64.515625 \nQ 56.59375 54.828125 56.59375 36.375 \nQ 56.59375 19.140625 48.40625 8.859375 \nQ 40.234375 -1.421875 26.421875 -1.421875 \nQ 22.703125 -1.421875 18.890625 -0.6875 \nQ 15.09375 0.046875 10.984375 1.515625 \nz\nM 30.609375 32.421875 \nQ 37.25 32.421875 41.125 36.953125 \nQ 45.015625 41.5 45.015625 49.421875 \nQ 45.015625 57.28125 41.125 61.84375 \nQ 37.25 66.40625 30.609375 66.40625 \nQ 23.96875 66.40625 20.09375 61.84375 \nQ 16.21875 57.28125 16.21875 49.421875 \nQ 16.21875 41.5 20.09375 36.953125 \nQ 23.96875 32.421875 30.609375 32.421875 \nz\n\" id=\"DejaVuSans-57\"/>\n      </defs>\n      <g transform=\"translate(342.946875 257.09)rotate(-90)scale(0.1 -0.1)\">\n       <use xlink:href=\"#DejaVuSans-50\"/>\n       <use x=\"63.623047\" xlink:href=\"#DejaVuSans-48\"/>\n       <use x=\"127.246094\" xlink:href=\"#DejaVuSans-49\"/>\n       <use x=\"190.869141\" xlink:href=\"#DejaVuSans-57\"/>\n      </g>\n     </g>\n    </g>\n    <g id=\"text_7\">\n     <!-- date -->\n     <defs>\n      <path d=\"M 45.40625 46.390625 \nL 45.40625 75.984375 \nL 54.390625 75.984375 \nL 54.390625 0 \nL 45.40625 0 \nL 45.40625 8.203125 \nQ 42.578125 3.328125 38.25 0.953125 \nQ 33.9375 -1.421875 27.875 -1.421875 \nQ 17.96875 -1.421875 11.734375 6.484375 \nQ 5.515625 14.40625 5.515625 27.296875 \nQ 5.515625 40.1875 11.734375 48.09375 \nQ 17.96875 56 27.875 56 \nQ 33.9375 56 38.25 53.625 \nQ 42.578125 51.265625 45.40625 46.390625 \nz\nM 14.796875 27.296875 \nQ 14.796875 17.390625 18.875 11.75 \nQ 22.953125 6.109375 30.078125 6.109375 \nQ 37.203125 6.109375 41.296875 11.75 \nQ 45.40625 17.390625 45.40625 27.296875 \nQ 45.40625 37.203125 41.296875 42.84375 \nQ 37.203125 48.484375 30.078125 48.484375 \nQ 22.953125 48.484375 18.875 42.84375 \nQ 14.796875 37.203125 14.796875 27.296875 \nz\n\" id=\"DejaVuSans-100\"/>\n      <path d=\"M 34.28125 27.484375 \nQ 23.390625 27.484375 19.1875 25 \nQ 14.984375 22.515625 14.984375 16.5 \nQ 14.984375 11.71875 18.140625 8.90625 \nQ 21.296875 6.109375 26.703125 6.109375 \nQ 34.1875 6.109375 38.703125 11.40625 \nQ 43.21875 16.703125 43.21875 25.484375 \nL 43.21875 27.484375 \nz\nM 52.203125 31.203125 \nL 52.203125 0 \nL 43.21875 0 \nL 43.21875 8.296875 \nQ 40.140625 3.328125 35.546875 0.953125 \nQ 30.953125 -1.421875 24.3125 -1.421875 \nQ 15.921875 -1.421875 10.953125 3.296875 \nQ 6 8.015625 6 15.921875 \nQ 6 25.140625 12.171875 29.828125 \nQ 18.359375 34.515625 30.609375 34.515625 \nL 43.21875 34.515625 \nL 43.21875 35.40625 \nQ 43.21875 41.609375 39.140625 45 \nQ 35.0625 48.390625 27.6875 48.390625 \nQ 23 48.390625 18.546875 47.265625 \nQ 14.109375 46.140625 10.015625 43.890625 \nL 10.015625 52.203125 \nQ 14.9375 54.109375 19.578125 55.046875 \nQ 24.21875 56 28.609375 56 \nQ 40.484375 56 46.34375 49.84375 \nQ 52.203125 43.703125 52.203125 31.203125 \nz\n\" id=\"DejaVuSans-97\"/>\n      <path d=\"M 18.3125 70.21875 \nL 18.3125 54.6875 \nL 36.8125 54.6875 \nL 36.8125 47.703125 \nL 18.3125 47.703125 \nL 18.3125 18.015625 \nQ 18.3125 11.328125 20.140625 9.421875 \nQ 21.96875 7.515625 27.59375 7.515625 \nL 36.8125 7.515625 \nL 36.8125 0 \nL 27.59375 0 \nQ 17.1875 0 13.234375 3.875 \nQ 9.28125 7.765625 9.28125 18.015625 \nL 9.28125 47.703125 \nL 2.6875 47.703125 \nL 2.6875 54.6875 \nL 9.28125 54.6875 \nL 9.28125 70.21875 \nz\n\" id=\"DejaVuSans-116\"/>\n      <path d=\"M 56.203125 29.59375 \nL 56.203125 25.203125 \nL 14.890625 25.203125 \nQ 15.484375 15.921875 20.484375 11.0625 \nQ 25.484375 6.203125 34.421875 6.203125 \nQ 39.59375 6.203125 44.453125 7.46875 \nQ 49.3125 8.734375 54.109375 11.28125 \nL 54.109375 2.78125 \nQ 49.265625 0.734375 44.1875 -0.34375 \nQ 39.109375 -1.421875 33.890625 -1.421875 \nQ 20.796875 -1.421875 13.15625 6.1875 \nQ 5.515625 13.8125 5.515625 26.8125 \nQ 5.515625 40.234375 12.765625 48.109375 \nQ 20.015625 56 32.328125 56 \nQ 43.359375 56 49.78125 48.890625 \nQ 56.203125 41.796875 56.203125 29.59375 \nz\nM 47.21875 32.234375 \nQ 47.125 39.59375 43.09375 43.984375 \nQ 39.0625 48.390625 32.421875 48.390625 \nQ 24.90625 48.390625 20.390625 44.140625 \nQ 15.875 39.890625 15.1875 32.171875 \nz\n\" id=\"DejaVuSans-101\"/>\n     </defs>\n     <g transform=\"translate(189.4125 268.688437)scale(0.1 -0.1)\">\n      <use xlink:href=\"#DejaVuSans-100\"/>\n      <use x=\"63.476562\" xlink:href=\"#DejaVuSans-97\"/>\n      <use x=\"124.755859\" xlink:href=\"#DejaVuSans-116\"/>\n      <use x=\"163.964844\" xlink:href=\"#DejaVuSans-101\"/>\n     </g>\n    </g>\n   </g>\n   <g id=\"matplotlib.axis_2\">\n    <g id=\"ytick_1\">\n     <g id=\"line2d_7\">\n      <defs>\n       <path d=\"M 0 0 \nL -3.5 0 \n\" id=\"mbcd735ec48\" style=\"stroke:#000000;stroke-width:0.8;\"/>\n      </defs>\n      <g>\n       <use style=\"stroke:#000000;stroke-width:0.8;\" x=\"33.2875\" xlink:href=\"#mbcd735ec48\" y=\"224.64\"/>\n      </g>\n     </g>\n     <g id=\"text_8\">\n      <!-- 0 -->\n      <g transform=\"translate(19.925 228.439219)scale(0.1 -0.1)\">\n       <use xlink:href=\"#DejaVuSans-48\"/>\n      </g>\n     </g>\n    </g>\n    <g id=\"ytick_2\">\n     <g id=\"line2d_8\">\n      <g>\n       <use style=\"stroke:#000000;stroke-width:0.8;\" x=\"33.2875\" xlink:href=\"#mbcd735ec48\" y=\"189.835678\"/>\n      </g>\n     </g>\n     <g id=\"text_9\">\n      <!-- 20 -->\n      <g transform=\"translate(13.5625 193.634897)scale(0.1 -0.1)\">\n       <use xlink:href=\"#DejaVuSans-50\"/>\n       <use x=\"63.623047\" xlink:href=\"#DejaVuSans-48\"/>\n      </g>\n     </g>\n    </g>\n    <g id=\"ytick_3\">\n     <g id=\"line2d_9\">\n      <g>\n       <use style=\"stroke:#000000;stroke-width:0.8;\" x=\"33.2875\" xlink:href=\"#mbcd735ec48\" y=\"155.031357\"/>\n      </g>\n     </g>\n     <g id=\"text_10\">\n      <!-- 40 -->\n      <g transform=\"translate(13.5625 158.830575)scale(0.1 -0.1)\">\n       <use xlink:href=\"#DejaVuSans-52\"/>\n       <use x=\"63.623047\" xlink:href=\"#DejaVuSans-48\"/>\n      </g>\n     </g>\n    </g>\n    <g id=\"ytick_4\">\n     <g id=\"line2d_10\">\n      <g>\n       <use style=\"stroke:#000000;stroke-width:0.8;\" x=\"33.2875\" xlink:href=\"#mbcd735ec48\" y=\"120.227035\"/>\n      </g>\n     </g>\n     <g id=\"text_11\">\n      <!-- 60 -->\n      <g transform=\"translate(13.5625 124.026254)scale(0.1 -0.1)\">\n       <use xlink:href=\"#DejaVuSans-54\"/>\n       <use x=\"63.623047\" xlink:href=\"#DejaVuSans-48\"/>\n      </g>\n     </g>\n    </g>\n    <g id=\"ytick_5\">\n     <g id=\"line2d_11\">\n      <g>\n       <use style=\"stroke:#000000;stroke-width:0.8;\" x=\"33.2875\" xlink:href=\"#mbcd735ec48\" y=\"85.422713\"/>\n      </g>\n     </g>\n     <g id=\"text_12\">\n      <!-- 80 -->\n      <g transform=\"translate(13.5625 89.221932)scale(0.1 -0.1)\">\n       <use xlink:href=\"#DejaVuSans-56\"/>\n       <use x=\"63.623047\" xlink:href=\"#DejaVuSans-48\"/>\n      </g>\n     </g>\n    </g>\n    <g id=\"ytick_6\">\n     <g id=\"line2d_12\">\n      <g>\n       <use style=\"stroke:#000000;stroke-width:0.8;\" x=\"33.2875\" xlink:href=\"#mbcd735ec48\" y=\"50.618391\"/>\n      </g>\n     </g>\n     <g id=\"text_13\">\n      <!-- 100 -->\n      <g transform=\"translate(7.2 54.41761)scale(0.1 -0.1)\">\n       <use xlink:href=\"#DejaVuSans-49\"/>\n       <use x=\"63.623047\" xlink:href=\"#DejaVuSans-48\"/>\n       <use x=\"127.246094\" xlink:href=\"#DejaVuSans-48\"/>\n      </g>\n     </g>\n    </g>\n    <g id=\"ytick_7\">\n     <g id=\"line2d_13\">\n      <g>\n       <use style=\"stroke:#000000;stroke-width:0.8;\" x=\"33.2875\" xlink:href=\"#mbcd735ec48\" y=\"15.81407\"/>\n      </g>\n     </g>\n     <g id=\"text_14\">\n      <!-- 120 -->\n      <g transform=\"translate(7.2 19.613288)scale(0.1 -0.1)\">\n       <use xlink:href=\"#DejaVuSans-49\"/>\n       <use x=\"63.623047\" xlink:href=\"#DejaVuSans-50\"/>\n       <use x=\"127.246094\" xlink:href=\"#DejaVuSans-48\"/>\n      </g>\n     </g>\n    </g>\n   </g>\n   <g id=\"patch_9\">\n    <path d=\"M 33.2875 224.64 \nL 33.2875 7.2 \n\" style=\"fill:none;stroke:#000000;stroke-linecap:square;stroke-linejoin:miter;stroke-width:0.8;\"/>\n   </g>\n   <g id=\"patch_10\">\n    <path d=\"M 368.0875 224.64 \nL 368.0875 7.2 \n\" style=\"fill:none;stroke:#000000;stroke-linecap:square;stroke-linejoin:miter;stroke-width:0.8;\"/>\n   </g>\n   <g id=\"patch_11\">\n    <path d=\"M 33.2875 224.64 \nL 368.0875 224.64 \n\" style=\"fill:none;stroke:#000000;stroke-linecap:square;stroke-linejoin:miter;stroke-width:0.8;\"/>\n   </g>\n   <g id=\"patch_12\">\n    <path d=\"M 33.2875 7.2 \nL 368.0875 7.2 \n\" style=\"fill:none;stroke:#000000;stroke-linecap:square;stroke-linejoin:miter;stroke-width:0.8;\"/>\n   </g>\n  </g>\n </g>\n <defs>\n  <clipPath id=\"p581c4f4831\">\n   <rect height=\"217.44\" width=\"334.8\" x=\"33.2875\" y=\"7.2\"/>\n  </clipPath>\n </defs>\n</svg>\n",
      "image/png": "[encoded data removed]"
     },
     "metadata": {
      "needs_background": "light"
     }
    }
   ],
   "source": [
    "# the years in which this restraunt got reviews\n",
    "res = '-1UMR00eXtwaeh59pEiDjA' # for example\n",
    "res_data = data[data['business_id']==res]\n",
    "r = res_data['date'].groupby(res_data['date'].dt.year).count()\n",
    "r.plot(kind='bar')\n"
   ]
  },
  {
   "cell_type": "code",
   "execution_count": 14,
   "metadata": {},
   "outputs": [
    {
     "output_type": "execute_result",
     "data": {
      "text/plain": [
       "1260    ITa3vh5ERI90G_WP4SmGUQ\n",
       "Name: user_id, dtype: object"
      ]
     },
     "metadata": {},
     "execution_count": 14
    }
   ],
   "source": [
    "# 'influencers' at this restraunt\n",
    "res_data['user_id'][res_data['influencer']==1]"
   ]
  },
  {
   "cell_type": "code",
   "execution_count": 15,
   "metadata": {},
   "outputs": [
    {
     "output_type": "stream",
     "name": "stdout",
     "text": [
      "Bad Decisions I've Made in 2017:\n\n1. Picking up a skillet fresh out of the oven with my bare hand.\n2. Believing the NY Giants were going to win.\n3. Leaning into the trunk of a cab too early, and gashing my head on the rebounding door.\n\nGood Decisions I've Made in 2017:\n\n1. Getting the Sonrisa Burrito before I got on a plane back to NYC.\n\n(Clearly killing it this year.)\n\nAdmittedly, my Phoenix airport eatery experience is a bit limited, but after drinking liquor of questionable quality until the wee hours of the morning, this burrito quite possibly saved my life. \n\nAlthough the menu only lists bacon and sausage as meat options, chorizo was a nice surprise choice. Beware, it's going to take 15 minutes for this thing because it's real food, and they have to grill the burrito. Which is so, so worth it, even if you have to miss your flight and live in PHX for the rest of your life.\n\nWell, maybe not then.\n"
     ]
    }
   ],
   "source": [
    "inf = 'ITa3vh5ERI90G_WP4SmGUQ'\n",
    "review_text = res_data['text'][res_data['user_id']==inf].iloc[0]\n",
    "review_time = res_data['date'][res_data['user_id']==inf].iloc[0]\n",
    "print(review_text)"
   ]
  },
  {
   "cell_type": "code",
   "execution_count": 16,
   "metadata": {},
   "outputs": [
    {
     "output_type": "stream",
     "name": "stdout",
     "text": [
      "sentiment is  pos\n"
     ]
    }
   ],
   "source": [
    "# analyze it's sentiment\n",
    "sa = SentimentAnalyzer()\n",
    "score = sa.getScore(review_text)\n",
    "print('sentiment is ', max(score, key=score.get))"
   ]
  },
  {
   "cell_type": "code",
   "execution_count": 42,
   "metadata": {},
   "outputs": [
    {
     "output_type": "stream",
     "name": "stdout",
     "text": [
      "interval days: 20\nbefore num: 7\nafter num: 8\n"
     ]
    }
   ],
   "source": [
    "max_future_date = max(res_data['date'][res_data['date'].between(review_time, pd.Timestamp.max)])\n",
    "future_delta = max_future_date - review_time\n",
    "interval_days = future_delta.days if future_delta.days<20 else 20\n",
    "print(f'interval days: {interval_days}')\n",
    "# print(review_time)\n",
    "lower = review_time - timedelta(days=interval_days)\n",
    "upper = review_time + timedelta(days=interval_days)\n",
    "# # upper = review_time + datetime.max # as into the future as we can go, to capture frequency\n",
    "# # res_data[(review_time - res_data['date']) < pd.Timedelta(30, unit='days') ]\n",
    "after_data = res_data[res_data['date'].between(review_time, upper)]\n",
    "before_data = res_data[res_data['date'].between(lower,review_time) ]\n",
    "\n",
    "print(f'before num: {len(before_data)}')\n",
    "print(f'after num: {len(after_data)}')\n"
   ]
  },
  {
   "cell_type": "markdown",
   "metadata": {},
   "source": [
    "# Setting up the hypothesis tests\n",
    "#### Test \n",
    "- increase in the frequency of review posts for a positive review posted by an influencer\n",
    "- decrease in the frequency of review posts for a negative review posted by an influencer\n",
    "#### change in the frequency test\n",
    "The null hypothesis again represents the \"no change\" or \"no difference\" situation\n",
    "- Null hyp: No change in the frequency\n",
    "- Alt hyp: There is an change in the frequency. The nature of the change can be determined by the actual numeric values itself\n",
    "\n",
    "([citation](https://sphweb.bumc.bu.edu/otlt/MPH-Modules/PH717-QuantCore/PH717_ComparingFrequencies/PH717_ComparingFrequencies_print.html))"
   ]
  },
  {
   "cell_type": "code",
   "execution_count": 52,
   "metadata": {},
   "outputs": [
    {
     "output_type": "execute_result",
     "data": {
      "text/plain": [
       "[7, 8]"
      ]
     },
     "metadata": {},
     "execution_count": 52
    }
   ],
   "source": [
    "beforeNum = len(before_data)\n",
    "afterNum = len(after_data)\n",
    "\n",
    "alpha = 0.05"
   ]
  },
  {
   "cell_type": "code",
   "execution_count": 61,
   "metadata": {},
   "outputs": [],
   "source": [
    "\n",
    "testResult = chisquare([beforeNum, afterNum])\n",
    "pValue = testResult.pvalue"
   ]
  },
  {
   "cell_type": "code",
   "execution_count": 60,
   "metadata": {},
   "outputs": [
    {
     "output_type": "stream",
     "name": "stdout",
     "text": [
      "null rejected\nIncrease in frequency\n"
     ]
    }
   ],
   "source": [
    "if pValue < alpha :\n",
    "    print('null rejected')\n",
    "    if (afterNum>=beforeNum):\n",
    "        print('Increase in frequency')\n",
    "    if (afterNum<beforeNum):\n",
    "        print('Decrease in frequency')\n",
    "else : \n",
    "    print('cannot reject null\\nNo change in review frequency')\n",
    "\n"
   ]
  },
  {
   "source": [
    "# Conducting test for every review of every influencer"
   ],
   "cell_type": "markdown",
   "metadata": {}
  },
  {
   "source": [
    "## Wrapping what we did above in a function"
   ],
   "cell_type": "markdown",
   "metadata": {}
  },
  {
   "cell_type": "code",
   "execution_count": 68,
   "metadata": {},
   "outputs": [],
   "source": [
    "sa = SentimentAnalyzer()\n",
    "def does_cause_change(restraunt_data, influencer_id:str) -> dict:\n",
    "    infuencer_data_in_res = res_data[res_data['user_id']==inf]\n",
    "    reviews = infuencer_data_in_res['text']\n",
    "    times = infuencer_data_in_res['date']\n",
    "    reviewIds = infuencer_data_in_res['review_id']\n",
    "    for index in range(len(reviews)):\n",
    "        print('-'*15)\n",
    "        review_id = reviewIds.iloc[index]\n",
    "        review_text = reviews.iloc[index]\n",
    "        review_time = times.iloc[index]\n",
    "        # sentiment\n",
    "        score = sa.getScore(review_text)\n",
    "        sentiment :str = max(score, key=score.get)\n",
    "        # getting info for hypothesis tests\n",
    "        max_future_date = max(restraunt_data['date'][restraunt_data['date'].between(review_time, pd.Timestamp.max)])\n",
    "        future_delta = max_future_date - review_time\n",
    "        interval_days = future_delta.days if future_delta.days<20 else 20\n",
    "        print(f'interval days: {interval_days}')\n",
    "        lower = review_time - timedelta(days=interval_days)\n",
    "        upper = review_time + timedelta(days=interval_days)\n",
    "        after_data = restraunt_data[restraunt_data['date'].between(review_time, upper)]\n",
    "        before_data = restraunt_data[restraunt_data['date'].between(lower,review_time) ]\n",
    "        print(f'before num: {len(before_data)}')\n",
    "        print(f'after num: {len(after_data)}')\n",
    "        # conducting hypothesis test\n",
    "        beforeNum = len(before_data)\n",
    "        afterNum = len(after_data)\n",
    "        alpha = 0.05\n",
    "        testResult = chisquare([beforeNum, afterNum])\n",
    "        pValue = testResult.pvalue\n",
    "        obj =  {\n",
    "            'reviewId':review_id,\n",
    "            'change':pValue < alpha,\n",
    "            'increase': afterNum > beforeNum\n",
    "        }\n",
    "        print(obj)\n",
    "\n",
    "\n"
   ]
  },
  {
   "cell_type": "code",
   "execution_count": 69,
   "metadata": {},
   "outputs": [
    {
     "output_type": "stream",
     "name": "stdout",
     "text": [
      "---------------\ninterval days: 20\nbefore num: 7\nafter num: 8\n{'reviewId': 'ffmZ0SEdNeibq_Dh5enJIA', 'change': False, 'increase': True}\n"
     ]
    }
   ],
   "source": [
    "does_cause_change(res_data, inf)"
   ]
  },
  {
   "source": [
    "## doing it for all restraunts and influencers for that restraunt"
   ],
   "cell_type": "markdown",
   "metadata": {}
  },
  {
   "cell_type": "code",
   "execution_count": 76,
   "metadata": {
    "tags": []
   },
   "outputs": [
    {
     "output_type": "stream",
     "name": "stdout",
     "text": [
      "---------------\n",
      "interval days: 20\n",
      "before num: 7\n",
      "after num: 8\n",
      "{'reviewId': 'ffmZ0SEdNeibq_Dh5enJIA', 'change': False, 'increase': True}\n",
      "---------------\n",
      "interval days: 20\n",
      "before num: 11\n",
      "after num: 11\n",
      "{'reviewId': 'lCVfPiw48qHWpD-89xeetA', 'change': False, 'increase': False}\n",
      "---------------\n",
      "interval days: 20\n",
      "before num: 3\n",
      "after num: 2\n",
      "{'reviewId': 'm2y8RZazNpwPHA8YM020GA', 'change': False, 'increase': False}\n",
      "---------------\n",
      "interval days: 20\n",
      "before num: 4\n",
      "after num: 2\n",
      "{'reviewId': 'DDl7RzUhp_925UemgsiLgg', 'change': False, 'increase': False}\n",
      "---------------\n",
      "interval days: 20\n",
      "before num: 3\n",
      "after num: 3\n",
      "{'reviewId': 's7pZPcD-UU6CG-gjvQ0FCg', 'change': False, 'increase': False}\n",
      "---------------\n",
      "interval days: 20\n",
      "before num: 7\n",
      "after num: 4\n",
      "{'reviewId': '-hanM-PZntdByHO8vMVCSg', 'change': False, 'increase': False}\n",
      "---------------\n",
      "interval days: 20\n",
      "before num: 4\n",
      "after num: 1\n",
      "{'reviewId': 'Qhj1HPP7Gk91bPgPxJ-j9A', 'change': False, 'increase': False}\n",
      "---------------\n",
      "interval days: 20\n",
      "before num: 1\n",
      "after num: 1\n",
      "{'reviewId': 'E638IyHjNqHJ7NriicKtuA', 'change': False, 'increase': False}\n",
      "---------------\n",
      "interval days: 20\n",
      "before num: 10\n",
      "after num: 13\n",
      "{'reviewId': 'EZzHXVZjmYSTxOk0xjByWg', 'change': False, 'increase': True}\n",
      "---------------\n",
      "interval days: 20\n",
      "before num: 4\n",
      "after num: 1\n",
      "{'reviewId': 'svHHOsLG679xDHnpmd-yrw', 'change': False, 'increase': False}\n",
      "---------------\n",
      "interval days: 20\n",
      "before num: 3\n",
      "after num: 2\n",
      "{'reviewId': 'jNIDH0akyb_U7e1GuinLYw', 'change': False, 'increase': False}\n",
      "---------------\n",
      "interval days: 20\n",
      "before num: 12\n",
      "after num: 19\n",
      "{'reviewId': 'VWvVrusd3zlrcmaRgSM06A', 'change': False, 'increase': True}\n",
      "---------------\n",
      "interval days: 20\n",
      "before num: 12\n",
      "after num: 19\n",
      "{'reviewId': 'VWvVrusd3zlrcmaRgSM06A', 'change': False, 'increase': True}\n",
      "---------------\n",
      "interval days: 20\n",
      "before num: 1\n",
      "after num: 1\n",
      "{'reviewId': '36PAyO__yb956eNBZSPLDg', 'change': False, 'increase': False}\n",
      "---------------\n",
      "interval days: 20\n",
      "before num: 3\n",
      "after num: 3\n",
      "{'reviewId': 'X7DbSRnFT243OVUjfCww3g', 'change': False, 'increase': False}\n",
      "---------------\n",
      "interval days: 20\n",
      "before num: 3\n",
      "after num: 3\n",
      "{'reviewId': 'X7DbSRnFT243OVUjfCww3g', 'change': False, 'increase': False}\n",
      "---------------\n",
      "interval days: 20\n",
      "before num: 1\n",
      "after num: 2\n",
      "{'reviewId': 'Y2ij8H79-YLmYz2wav3yxg', 'change': False, 'increase': True}\n",
      "---------------\n",
      "interval days: 20\n",
      "before num: 3\n",
      "after num: 4\n",
      "{'reviewId': 'rsPiYMqfshrrU8qPQBp19g', 'change': False, 'increase': True}\n",
      "---------------\n",
      "interval days: 20\n",
      "before num: 3\n",
      "after num: 4\n",
      "{'reviewId': 'rsPiYMqfshrrU8qPQBp19g', 'change': False, 'increase': True}\n",
      "---------------\n",
      "interval days: 20\n",
      "before num: 2\n",
      "after num: 1\n",
      "{'reviewId': '933YS_-d7NgE_6ypS9_Xmw', 'change': False, 'increase': False}\n",
      "---------------\n",
      "interval days: 20\n",
      "before num: 1\n",
      "after num: 2\n",
      "{'reviewId': 'z91BIfcdW80ZcRS45v4Ukw', 'change': False, 'increase': True}\n",
      "---------------\n",
      "interval days: 20\n",
      "before num: 4\n",
      "after num: 4\n",
      "{'reviewId': 'lewyhLKv-jVCj8wU6PS6eQ', 'change': False, 'increase': False}\n",
      "---------------\n",
      "interval days: 20\n",
      "before num: 14\n",
      "after num: 7\n",
      "{'reviewId': 'CJrBwOSrv73qJ3w7WZkGEA', 'change': False, 'increase': False}\n",
      "---------------\n",
      "interval days: 20\n",
      "before num: 3\n",
      "after num: 1\n",
      "{'reviewId': 'B-m_YK61JytMQ4VARf8-Kg', 'change': False, 'increase': False}\n",
      "---------------\n",
      "interval days: 20\n",
      "before num: 2\n",
      "after num: 2\n",
      "{'reviewId': 'CkidCjV7vrdG3doLo_HUnw', 'change': False, 'increase': False}\n",
      "---------------\n",
      "interval days: 20\n",
      "before num: 6\n",
      "after num: 9\n",
      "{'reviewId': 'IN3N1TTYVdSv5f0WSjqMFw', 'change': False, 'increase': True}\n",
      "---------------\n",
      "interval days: 20\n",
      "before num: 6\n",
      "after num: 9\n",
      "{'reviewId': 'IN3N1TTYVdSv5f0WSjqMFw', 'change': False, 'increase': True}\n",
      "---------------\n",
      "interval days: 20\n",
      "before num: 10\n",
      "after num: 6\n",
      "{'reviewId': 'WjN9OtQaI0qWhKPeSNAz5A', 'change': False, 'increase': False}\n",
      "---------------\n",
      "interval days: 20\n",
      "before num: 5\n",
      "after num: 2\n",
      "{'reviewId': 'Wu7weGV3sLmMt1uBozp-2Q', 'change': False, 'increase': False}\n",
      "---------------\n",
      "interval days: 20\n",
      "before num: 1\n",
      "after num: 1\n",
      "{'reviewId': 'GfVQVEpznjjBiVrTzuoKFw', 'change': False, 'increase': False}\n",
      "---------------\n",
      "interval days: 20\n",
      "before num: 2\n",
      "after num: 2\n",
      "{'reviewId': 'PpTgqTEBMZlhpAt9nEnc3Q', 'change': False, 'increase': False}\n",
      "---------------\n",
      "interval days: 20\n",
      "before num: 4\n",
      "after num: 2\n",
      "{'reviewId': 'WK1MnW6hrL5Eq7TR6ggxAw', 'change': False, 'increase': False}\n",
      "---------------\n",
      "interval days: 20\n",
      "before num: 2\n",
      "after num: 8\n",
      "{'reviewId': 'qQxi3egEQGgz_cPvKDxZYQ', 'change': False, 'increase': True}\n",
      "---------------\n",
      "interval days: 20\n",
      "before num: 2\n",
      "after num: 1\n",
      "{'reviewId': 'BEE2oJU1SvjAE26C8Rzn-Q', 'change': False, 'increase': False}\n",
      "---------------\n",
      "interval days: 20\n",
      "before num: 1\n",
      "after num: 13\n",
      "{'reviewId': '9UmwiUBKNPG3vdyn2-Lvbg', 'change': True, 'increase': True}\n",
      "---------------\n",
      "interval days: 20\n",
      "before num: 35\n",
      "after num: 21\n",
      "{'reviewId': 'PzvTHB4rVIRA62ns6chkQA', 'change': False, 'increase': False}\n",
      "---------------\n",
      "interval days: 20\n",
      "before num: 35\n",
      "after num: 21\n",
      "{'reviewId': 'PzvTHB4rVIRA62ns6chkQA', 'change': False, 'increase': False}\n",
      "---------------\n",
      "interval days: 20\n",
      "before num: 35\n",
      "after num: 21\n",
      "{'reviewId': 'PzvTHB4rVIRA62ns6chkQA', 'change': False, 'increase': False}\n",
      "---------------\n",
      "interval days: 20\n",
      "before num: 24\n",
      "after num: 18\n",
      "{'reviewId': 'NVmAoVu1BPE_e6Z5IM6TVw', 'change': False, 'increase': False}\n",
      "---------------\n",
      "interval days: 20\n",
      "before num: 24\n",
      "after num: 18\n",
      "{'reviewId': 'NVmAoVu1BPE_e6Z5IM6TVw', 'change': False, 'increase': False}\n",
      "---------------\n",
      "interval days: 20\n",
      "before num: 24\n",
      "after num: 18\n",
      "{'reviewId': 'NVmAoVu1BPE_e6Z5IM6TVw', 'change': False, 'increase': False}\n",
      "---------------\n",
      "interval days: 20\n",
      "before num: 4\n",
      "after num: 5\n",
      "{'reviewId': 'ibWloyTnst94tbMkUxzrhw', 'change': False, 'increase': True}\n",
      "---------------\n",
      "interval days: 20\n",
      "before num: 4\n",
      "after num: 5\n",
      "{'reviewId': 'ibWloyTnst94tbMkUxzrhw', 'change': False, 'increase': True}\n",
      "---------------\n",
      "interval days: 20\n",
      "before num: 4\n",
      "after num: 5\n",
      "{'reviewId': 'ibWloyTnst94tbMkUxzrhw', 'change': False, 'increase': True}\n",
      "---------------\n",
      "interval days: 20\n",
      "before num: 2\n",
      "after num: 1\n",
      "{'reviewId': 'laEWmOGCJROP2Ak-KwrM_Q', 'change': False, 'increase': False}\n",
      "---------------\n",
      "interval days: 20\n",
      "before num: 16\n",
      "after num: 15\n",
      "{'reviewId': 'pnwVK7C6m_H6VVUGn8nAOQ', 'change': False, 'increase': False}\n"
     ]
    }
   ],
   "source": [
    "restraunts = data['business_id'].groupby(data['business_id']).count()\n",
    "restraunts\n",
    "for rest_id in restraunts.index:\n",
    "    # print(f'for restraunt {rest_id}')\n",
    "    res_data = data[data['business_id']==rest_id]\n",
    "    for influencer_id in res_data['user_id'][res_data['influencer']==1]:\n",
    "        does_cause_change(res_data, influencer_id)\n"
   ]
  },
  {
   "cell_type": "code",
   "execution_count": 77,
   "metadata": {},
   "outputs": [
    {
     "output_type": "execute_result",
     "data": {
      "text/plain": [
       "                  review_id                 user_id             business_id  \\\n",
       "478  9UmwiUBKNPG3vdyn2-Lvbg  ITa3vh5ERI90G_WP4SmGUQ  qLy2F9EzCsFYIKd40OJvZA   \n",
       "\n",
       "     useful  funny  stars  cool  \\\n",
       "478      14      3    3.0     4   \n",
       "\n",
       "                                                  text                date  \\\n",
       "478  This brand new steakhouse is a sleek and styli... 2017-10-26 15:37:59   \n",
       "\n",
       "     influencer  \n",
       "478           1  "
      ],
      "text/html": "<div>\n<style scoped>\n    .dataframe tbody tr th:only-of-type {\n        vertical-align: middle;\n    }\n\n    .dataframe tbody tr th {\n        vertical-align: top;\n    }\n\n    .dataframe thead th {\n        text-align: right;\n    }\n</style>\n<table border=\"1\" class=\"dataframe\">\n  <thead>\n    <tr style=\"text-align: right;\">\n      <th></th>\n      <th>review_id</th>\n      <th>user_id</th>\n      <th>business_id</th>\n      <th>useful</th>\n      <th>funny</th>\n      <th>stars</th>\n      <th>cool</th>\n      <th>text</th>\n      <th>date</th>\n      <th>influencer</th>\n    </tr>\n  </thead>\n  <tbody>\n    <tr>\n      <td>478</td>\n      <td>9UmwiUBKNPG3vdyn2-Lvbg</td>\n      <td>ITa3vh5ERI90G_WP4SmGUQ</td>\n      <td>qLy2F9EzCsFYIKd40OJvZA</td>\n      <td>14</td>\n      <td>3</td>\n      <td>3.0</td>\n      <td>4</td>\n      <td>This brand new steakhouse is a sleek and styli...</td>\n      <td>2017-10-26 15:37:59</td>\n      <td>1</td>\n    </tr>\n  </tbody>\n</table>\n</div>"
     },
     "metadata": {},
     "execution_count": 77
    }
   ],
   "source": [
    "# For the review which causes a significant change in traffic\n",
    "reviewId = '9UmwiUBKNPG3vdyn2-Lvbg'\n",
    "data[data['review_id']==reviewId]"
   ]
  },
  {
   "source": [
    "## Conclusions and final words based on the results/output above\n",
    "According to the output above, there is only _one_ review by who we consider an influencer, that causes a significant change in the number of reviews after it was posted.\n",
    "\n",
    "Some reasons that explain the output above could be as follows:\n",
    "- Our hypothesis/notions is actually untrue. This could be because in reality, the usefulness of a review (which we use to select an influencer) actually does not have an impact on the traffic to the restraunt in most cases.\n",
    "- The traffic to the restraunt could be influenced by other factors, and not just the reviews.\n",
    "- Our technique of sampling was incorrect.\n",
    "- Our technique of identifying and tagging influencers was incorrect."
   ],
   "cell_type": "markdown",
   "metadata": {}
  },
  {
   "cell_type": "code",
   "execution_count": null,
   "metadata": {},
   "outputs": [],
   "source": []
  }
 ],
 "metadata": {
  "kernelspec": {
   "display_name": "Python 3.7.4 64-bit ('base': conda)",
   "language": "python",
   "name": "python37464bitbasecondae525e6c9c94646598349147b559f359c"
  },
  "language_info": {
   "codemirror_mode": {
    "name": "ipython",
    "version": 3
   },
   "file_extension": ".py",
   "mimetype": "text/x-python",
   "name": "python",
   "nbconvert_exporter": "python",
   "pygments_lexer": "ipython3",
   "version": "3.7.4-final"
  }
 },
 "nbformat": 4,
 "nbformat_minor": 2
}